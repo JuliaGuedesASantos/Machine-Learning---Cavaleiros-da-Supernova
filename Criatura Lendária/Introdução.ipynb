{
 "cells": [
  {
   "cell_type": "markdown",
   "metadata": {},
   "source": [
    "# <center> **Projeto Final - Aprendizado de Máquina** <center>"
   ]
  },
  {
   "cell_type": "markdown",
   "metadata": {},
   "source": [
    "### <center> - *Análise de dados para previsão da temperatura crítica de supercondutores* - <center>"
   ]
  },
  {
   "cell_type": "markdown",
   "metadata": {},
   "source": [
    "Guerreiros: **Tsuru** (Júlia Guedes Almeida dos Santos), **Pólux** (Raquel de Godoy Vianna) e **Tiles** (Thalles José de Souza Cansi)."
   ]
  },
  {
   "cell_type": "markdown",
   "metadata": {},
   "source": [
    "> Uma andorinha sozinha não faz verão."
   ]
  },
  {
   "cell_type": "markdown",
   "metadata": {},
   "source": [
    "<div style=\"text-align: justify;\">\n",
    "O presente notebook objetiva apresentar a motivação para o projeto, para a escolha do banco de dados e do target, assim como realizar uma breve análise do dataset escolhido, voltada para o target selecionado e, por fim, separar o dataset em dados de treino e teste, divisão que será essencial para as implementações e análises dos próximos notebooks."
   ]
  },
  {
   "cell_type": "markdown",
   "metadata": {},
   "source": [
    "## 🏙️ **Introdução**"
   ]
  },
  {
   "cell_type": "markdown",
   "metadata": {},
   "source": [
    "<div style=\"text-align: justify\">\n",
    "Supercondutores consistem em materiais que, ao se encontrarem abaixo de certa temperatura, denominada temperatura crítica,  perdem a resistência à passagem de corrente elétrica, bem como apresentam propriedades extremamente intrigantes - podendo ser usados, por exemplo, para a promoção da levitação magnética. A partir de sua descoberta em 1911, por intermédio do trabalho de Heike Kamerlingh-Onnes, a supercondutividade passou a ser procurada em diversos materiais, sobretudo em metais, visto que são naturalmente bons condutores. Para além da identificação de supercondutores, prever a temperatura crítica desses com base em outras de suas propriedades compreende um estudo interessante e incrivelmente útil. Isso porque a previsão desse aspecto de um supercondutor possibilita:\n",
    "\n",
    "- Identificar quais materiais supercondutores seriam melhores para aplicação em certa área; \n",
    "\n",
    "- Acelerar o desenvolvimento tecnológico pautado em supercondutividade; \n",
    "\n",
    "- Possibilitar uma melhor compreensão no que tange aos princípios físicos relacionados à supercondutividade; \n",
    "\n",
    "- Entre outros avanços. \n",
    "\n",
    "Com isso, fica evidente que compreender e, se possível, prever a temperatura crítica é fundamental no que tange ao uso atual de supercondutores, assim como constitui uma forma de impulsionar o avanço científico e tecnológico nessa esfera tão promissora. [1]\n",
    "\n",
    "Nesse âmbito, levando em consideração a relevância desta área para o contexto científico de modo geral, obteve-se um banco de dados acerca de supercondutores por meio do site UC Irvine - Machine Learning Repository [4]. De maneira sucinta, tal banco de dados é próprio para aprendizado de máquina, sendo resultante de um artigo publicado no periódico \"Computational Materials Science\", assim, ele apresenta diversas características de materiais supercondutores (no total 82), a exemplo do número de elementos que possuem, bem como a média de sua massa atômica, e, é claro, a temperatura crítica, assim como outras propriedades relevantes desses. Para saber mais detalhes sobre cada uma delas, recomenda-se fortemente a leitura do artigo contido nas referências. [3] \n",
    "\n",
    "Além disso, é extremamente necessário que tal dataset seja baixado e encontre-se contido no mesmo terminal que o presente notebook, visando o bom funcionamento dos códigos que serão apresentados a seguir. Nesse sentido, orienta-se que ele seja baixado por intermédio do Github do projeto, onde muitas outras informações sobre o trabalho podem ser acessadas, motivo pelo qual sua leitura como um todo é aconselhada. [8]\n",
    "\n",
    "Deste modo, com base nos fatores destacados a priori, o objetivo do trabalho elaborado consiste em prever a temperatura crítica (na escala Kelvin), que corresponde ao ponto em que certo material se torna um supercondutor. Assim, tal propriedade dos supercondutores consiste no target deste estudo - valor a ser previsto pelos modelos utilizados ao longo do presente projeto.\n",
    "\n",
    "</div>"
   ]
  },
  {
   "cell_type": "markdown",
   "metadata": {},
   "source": [
    "### 📚 **Importação de bibliotecas**"
   ]
  },
  {
   "cell_type": "markdown",
   "metadata": {},
   "source": [
    "Em primeiro lugar, as bibliotecas necessárias serão importadas abaixo."
   ]
  },
  {
   "cell_type": "code",
   "execution_count": 8,
   "metadata": {},
   "outputs": [],
   "source": [
    "import os\n",
    "import pandas as pd\n",
    "import statistics as st\n",
    "import seaborn as sns\n",
    "import matplotlib.pyplot as plt\n",
    "from sklearn.model_selection import train_test_split\n",
    "from sklearn.dummy import DummyRegressor\n",
    "from sklearn.model_selection import cross_val_score\n",
    "import numpy as np"
   ]
  },
  {
   "cell_type": "markdown",
   "metadata": {},
   "source": [
    "### ⚛️ **Importação do Dataset**"
   ]
  },
  {
   "cell_type": "markdown",
   "metadata": {},
   "source": [
    "O dataset sobredito será importado e, sequencialmente, exibido:"
   ]
  },
  {
   "cell_type": "code",
   "execution_count": 9,
   "metadata": {},
   "outputs": [
    {
     "data": {
      "text/html": [
       "<div>\n",
       "<style scoped>\n",
       "    .dataframe tbody tr th:only-of-type {\n",
       "        vertical-align: middle;\n",
       "    }\n",
       "\n",
       "    .dataframe tbody tr th {\n",
       "        vertical-align: top;\n",
       "    }\n",
       "\n",
       "    .dataframe thead th {\n",
       "        text-align: right;\n",
       "    }\n",
       "</style>\n",
       "<table border=\"1\" class=\"dataframe\">\n",
       "  <thead>\n",
       "    <tr style=\"text-align: right;\">\n",
       "      <th></th>\n",
       "      <th>number_of_elements</th>\n",
       "      <th>mean_atomic_mass</th>\n",
       "      <th>wtd_mean_atomic_mass</th>\n",
       "      <th>gmean_atomic_mass</th>\n",
       "      <th>wtd_gmean_atomic_mass</th>\n",
       "      <th>entropy_atomic_mass</th>\n",
       "      <th>wtd_entropy_atomic_mass</th>\n",
       "      <th>range_atomic_mass</th>\n",
       "      <th>wtd_range_atomic_mass</th>\n",
       "      <th>std_atomic_mass</th>\n",
       "      <th>...</th>\n",
       "      <th>wtd_mean_Valence</th>\n",
       "      <th>gmean_Valence</th>\n",
       "      <th>wtd_gmean_Valence</th>\n",
       "      <th>entropy_Valence</th>\n",
       "      <th>wtd_entropy_Valence</th>\n",
       "      <th>range_Valence</th>\n",
       "      <th>wtd_range_Valence</th>\n",
       "      <th>std_Valence</th>\n",
       "      <th>wtd_std_Valence</th>\n",
       "      <th>critical_temp</th>\n",
       "    </tr>\n",
       "  </thead>\n",
       "  <tbody>\n",
       "    <tr>\n",
       "      <th>0</th>\n",
       "      <td>4</td>\n",
       "      <td>88.944468</td>\n",
       "      <td>57.862692</td>\n",
       "      <td>66.361592</td>\n",
       "      <td>36.116612</td>\n",
       "      <td>1.181795</td>\n",
       "      <td>1.062396</td>\n",
       "      <td>122.90607</td>\n",
       "      <td>31.794921</td>\n",
       "      <td>51.968828</td>\n",
       "      <td>...</td>\n",
       "      <td>2.257143</td>\n",
       "      <td>2.213364</td>\n",
       "      <td>2.219783</td>\n",
       "      <td>1.368922</td>\n",
       "      <td>1.066221</td>\n",
       "      <td>1</td>\n",
       "      <td>1.085714</td>\n",
       "      <td>0.433013</td>\n",
       "      <td>0.437059</td>\n",
       "      <td>29.00</td>\n",
       "    </tr>\n",
       "    <tr>\n",
       "      <th>1</th>\n",
       "      <td>5</td>\n",
       "      <td>92.729214</td>\n",
       "      <td>58.518416</td>\n",
       "      <td>73.132787</td>\n",
       "      <td>36.396602</td>\n",
       "      <td>1.449309</td>\n",
       "      <td>1.057755</td>\n",
       "      <td>122.90607</td>\n",
       "      <td>36.161939</td>\n",
       "      <td>47.094633</td>\n",
       "      <td>...</td>\n",
       "      <td>2.257143</td>\n",
       "      <td>1.888175</td>\n",
       "      <td>2.210679</td>\n",
       "      <td>1.557113</td>\n",
       "      <td>1.047221</td>\n",
       "      <td>2</td>\n",
       "      <td>1.128571</td>\n",
       "      <td>0.632456</td>\n",
       "      <td>0.468606</td>\n",
       "      <td>26.00</td>\n",
       "    </tr>\n",
       "    <tr>\n",
       "      <th>2</th>\n",
       "      <td>4</td>\n",
       "      <td>88.944468</td>\n",
       "      <td>57.885242</td>\n",
       "      <td>66.361592</td>\n",
       "      <td>36.122509</td>\n",
       "      <td>1.181795</td>\n",
       "      <td>0.975980</td>\n",
       "      <td>122.90607</td>\n",
       "      <td>35.741099</td>\n",
       "      <td>51.968828</td>\n",
       "      <td>...</td>\n",
       "      <td>2.271429</td>\n",
       "      <td>2.213364</td>\n",
       "      <td>2.232679</td>\n",
       "      <td>1.368922</td>\n",
       "      <td>1.029175</td>\n",
       "      <td>1</td>\n",
       "      <td>1.114286</td>\n",
       "      <td>0.433013</td>\n",
       "      <td>0.444697</td>\n",
       "      <td>19.00</td>\n",
       "    </tr>\n",
       "    <tr>\n",
       "      <th>3</th>\n",
       "      <td>4</td>\n",
       "      <td>88.944468</td>\n",
       "      <td>57.873967</td>\n",
       "      <td>66.361592</td>\n",
       "      <td>36.119560</td>\n",
       "      <td>1.181795</td>\n",
       "      <td>1.022291</td>\n",
       "      <td>122.90607</td>\n",
       "      <td>33.768010</td>\n",
       "      <td>51.968828</td>\n",
       "      <td>...</td>\n",
       "      <td>2.264286</td>\n",
       "      <td>2.213364</td>\n",
       "      <td>2.226222</td>\n",
       "      <td>1.368922</td>\n",
       "      <td>1.048834</td>\n",
       "      <td>1</td>\n",
       "      <td>1.100000</td>\n",
       "      <td>0.433013</td>\n",
       "      <td>0.440952</td>\n",
       "      <td>22.00</td>\n",
       "    </tr>\n",
       "    <tr>\n",
       "      <th>4</th>\n",
       "      <td>4</td>\n",
       "      <td>88.944468</td>\n",
       "      <td>57.840143</td>\n",
       "      <td>66.361592</td>\n",
       "      <td>36.110716</td>\n",
       "      <td>1.181795</td>\n",
       "      <td>1.129224</td>\n",
       "      <td>122.90607</td>\n",
       "      <td>27.848743</td>\n",
       "      <td>51.968828</td>\n",
       "      <td>...</td>\n",
       "      <td>2.242857</td>\n",
       "      <td>2.213364</td>\n",
       "      <td>2.206963</td>\n",
       "      <td>1.368922</td>\n",
       "      <td>1.096052</td>\n",
       "      <td>1</td>\n",
       "      <td>1.057143</td>\n",
       "      <td>0.433013</td>\n",
       "      <td>0.428809</td>\n",
       "      <td>23.00</td>\n",
       "    </tr>\n",
       "    <tr>\n",
       "      <th>...</th>\n",
       "      <td>...</td>\n",
       "      <td>...</td>\n",
       "      <td>...</td>\n",
       "      <td>...</td>\n",
       "      <td>...</td>\n",
       "      <td>...</td>\n",
       "      <td>...</td>\n",
       "      <td>...</td>\n",
       "      <td>...</td>\n",
       "      <td>...</td>\n",
       "      <td>...</td>\n",
       "      <td>...</td>\n",
       "      <td>...</td>\n",
       "      <td>...</td>\n",
       "      <td>...</td>\n",
       "      <td>...</td>\n",
       "      <td>...</td>\n",
       "      <td>...</td>\n",
       "      <td>...</td>\n",
       "      <td>...</td>\n",
       "      <td>...</td>\n",
       "    </tr>\n",
       "    <tr>\n",
       "      <th>21258</th>\n",
       "      <td>4</td>\n",
       "      <td>106.957877</td>\n",
       "      <td>53.095769</td>\n",
       "      <td>82.515384</td>\n",
       "      <td>43.135565</td>\n",
       "      <td>1.177145</td>\n",
       "      <td>1.254119</td>\n",
       "      <td>146.88130</td>\n",
       "      <td>15.504479</td>\n",
       "      <td>65.764081</td>\n",
       "      <td>...</td>\n",
       "      <td>3.555556</td>\n",
       "      <td>3.223710</td>\n",
       "      <td>3.519911</td>\n",
       "      <td>1.377820</td>\n",
       "      <td>0.913658</td>\n",
       "      <td>1</td>\n",
       "      <td>2.168889</td>\n",
       "      <td>0.433013</td>\n",
       "      <td>0.496904</td>\n",
       "      <td>2.44</td>\n",
       "    </tr>\n",
       "    <tr>\n",
       "      <th>21259</th>\n",
       "      <td>5</td>\n",
       "      <td>92.266740</td>\n",
       "      <td>49.021367</td>\n",
       "      <td>64.812662</td>\n",
       "      <td>32.867748</td>\n",
       "      <td>1.323287</td>\n",
       "      <td>1.571630</td>\n",
       "      <td>188.38390</td>\n",
       "      <td>7.353333</td>\n",
       "      <td>69.232655</td>\n",
       "      <td>...</td>\n",
       "      <td>2.047619</td>\n",
       "      <td>2.168944</td>\n",
       "      <td>2.038991</td>\n",
       "      <td>1.594167</td>\n",
       "      <td>1.337246</td>\n",
       "      <td>1</td>\n",
       "      <td>0.904762</td>\n",
       "      <td>0.400000</td>\n",
       "      <td>0.212959</td>\n",
       "      <td>122.10</td>\n",
       "    </tr>\n",
       "    <tr>\n",
       "      <th>21260</th>\n",
       "      <td>2</td>\n",
       "      <td>99.663190</td>\n",
       "      <td>95.609104</td>\n",
       "      <td>99.433882</td>\n",
       "      <td>95.464320</td>\n",
       "      <td>0.690847</td>\n",
       "      <td>0.530198</td>\n",
       "      <td>13.51362</td>\n",
       "      <td>53.041104</td>\n",
       "      <td>6.756810</td>\n",
       "      <td>...</td>\n",
       "      <td>4.800000</td>\n",
       "      <td>4.472136</td>\n",
       "      <td>4.781762</td>\n",
       "      <td>0.686962</td>\n",
       "      <td>0.450561</td>\n",
       "      <td>1</td>\n",
       "      <td>3.200000</td>\n",
       "      <td>0.500000</td>\n",
       "      <td>0.400000</td>\n",
       "      <td>1.98</td>\n",
       "    </tr>\n",
       "    <tr>\n",
       "      <th>21261</th>\n",
       "      <td>2</td>\n",
       "      <td>99.663190</td>\n",
       "      <td>97.095602</td>\n",
       "      <td>99.433882</td>\n",
       "      <td>96.901083</td>\n",
       "      <td>0.690847</td>\n",
       "      <td>0.640883</td>\n",
       "      <td>13.51362</td>\n",
       "      <td>31.115202</td>\n",
       "      <td>6.756810</td>\n",
       "      <td>...</td>\n",
       "      <td>4.690000</td>\n",
       "      <td>4.472136</td>\n",
       "      <td>4.665819</td>\n",
       "      <td>0.686962</td>\n",
       "      <td>0.577601</td>\n",
       "      <td>1</td>\n",
       "      <td>2.210000</td>\n",
       "      <td>0.500000</td>\n",
       "      <td>0.462493</td>\n",
       "      <td>1.84</td>\n",
       "    </tr>\n",
       "    <tr>\n",
       "      <th>21262</th>\n",
       "      <td>3</td>\n",
       "      <td>87.468333</td>\n",
       "      <td>86.858500</td>\n",
       "      <td>82.555758</td>\n",
       "      <td>80.458722</td>\n",
       "      <td>1.041270</td>\n",
       "      <td>0.895229</td>\n",
       "      <td>71.75500</td>\n",
       "      <td>43.144000</td>\n",
       "      <td>29.905282</td>\n",
       "      <td>...</td>\n",
       "      <td>4.500000</td>\n",
       "      <td>4.762203</td>\n",
       "      <td>4.242641</td>\n",
       "      <td>1.054920</td>\n",
       "      <td>0.970116</td>\n",
       "      <td>3</td>\n",
       "      <td>1.800000</td>\n",
       "      <td>1.414214</td>\n",
       "      <td>1.500000</td>\n",
       "      <td>12.80</td>\n",
       "    </tr>\n",
       "  </tbody>\n",
       "</table>\n",
       "<p>21263 rows × 82 columns</p>\n",
       "</div>"
      ],
      "text/plain": [
       "       number_of_elements  mean_atomic_mass  wtd_mean_atomic_mass  \\\n",
       "0                       4         88.944468             57.862692   \n",
       "1                       5         92.729214             58.518416   \n",
       "2                       4         88.944468             57.885242   \n",
       "3                       4         88.944468             57.873967   \n",
       "4                       4         88.944468             57.840143   \n",
       "...                   ...               ...                   ...   \n",
       "21258                   4        106.957877             53.095769   \n",
       "21259                   5         92.266740             49.021367   \n",
       "21260                   2         99.663190             95.609104   \n",
       "21261                   2         99.663190             97.095602   \n",
       "21262                   3         87.468333             86.858500   \n",
       "\n",
       "       gmean_atomic_mass  wtd_gmean_atomic_mass  entropy_atomic_mass  \\\n",
       "0              66.361592              36.116612             1.181795   \n",
       "1              73.132787              36.396602             1.449309   \n",
       "2              66.361592              36.122509             1.181795   \n",
       "3              66.361592              36.119560             1.181795   \n",
       "4              66.361592              36.110716             1.181795   \n",
       "...                  ...                    ...                  ...   \n",
       "21258          82.515384              43.135565             1.177145   \n",
       "21259          64.812662              32.867748             1.323287   \n",
       "21260          99.433882              95.464320             0.690847   \n",
       "21261          99.433882              96.901083             0.690847   \n",
       "21262          82.555758              80.458722             1.041270   \n",
       "\n",
       "       wtd_entropy_atomic_mass  range_atomic_mass  wtd_range_atomic_mass  \\\n",
       "0                     1.062396          122.90607              31.794921   \n",
       "1                     1.057755          122.90607              36.161939   \n",
       "2                     0.975980          122.90607              35.741099   \n",
       "3                     1.022291          122.90607              33.768010   \n",
       "4                     1.129224          122.90607              27.848743   \n",
       "...                        ...                ...                    ...   \n",
       "21258                 1.254119          146.88130              15.504479   \n",
       "21259                 1.571630          188.38390               7.353333   \n",
       "21260                 0.530198           13.51362              53.041104   \n",
       "21261                 0.640883           13.51362              31.115202   \n",
       "21262                 0.895229           71.75500              43.144000   \n",
       "\n",
       "       std_atomic_mass  ...  wtd_mean_Valence  gmean_Valence  \\\n",
       "0            51.968828  ...          2.257143       2.213364   \n",
       "1            47.094633  ...          2.257143       1.888175   \n",
       "2            51.968828  ...          2.271429       2.213364   \n",
       "3            51.968828  ...          2.264286       2.213364   \n",
       "4            51.968828  ...          2.242857       2.213364   \n",
       "...                ...  ...               ...            ...   \n",
       "21258        65.764081  ...          3.555556       3.223710   \n",
       "21259        69.232655  ...          2.047619       2.168944   \n",
       "21260         6.756810  ...          4.800000       4.472136   \n",
       "21261         6.756810  ...          4.690000       4.472136   \n",
       "21262        29.905282  ...          4.500000       4.762203   \n",
       "\n",
       "       wtd_gmean_Valence  entropy_Valence  wtd_entropy_Valence  range_Valence  \\\n",
       "0               2.219783         1.368922             1.066221              1   \n",
       "1               2.210679         1.557113             1.047221              2   \n",
       "2               2.232679         1.368922             1.029175              1   \n",
       "3               2.226222         1.368922             1.048834              1   \n",
       "4               2.206963         1.368922             1.096052              1   \n",
       "...                  ...              ...                  ...            ...   \n",
       "21258           3.519911         1.377820             0.913658              1   \n",
       "21259           2.038991         1.594167             1.337246              1   \n",
       "21260           4.781762         0.686962             0.450561              1   \n",
       "21261           4.665819         0.686962             0.577601              1   \n",
       "21262           4.242641         1.054920             0.970116              3   \n",
       "\n",
       "       wtd_range_Valence  std_Valence  wtd_std_Valence  critical_temp  \n",
       "0               1.085714     0.433013         0.437059          29.00  \n",
       "1               1.128571     0.632456         0.468606          26.00  \n",
       "2               1.114286     0.433013         0.444697          19.00  \n",
       "3               1.100000     0.433013         0.440952          22.00  \n",
       "4               1.057143     0.433013         0.428809          23.00  \n",
       "...                  ...          ...              ...            ...  \n",
       "21258           2.168889     0.433013         0.496904           2.44  \n",
       "21259           0.904762     0.400000         0.212959         122.10  \n",
       "21260           3.200000     0.500000         0.400000           1.98  \n",
       "21261           2.210000     0.500000         0.462493           1.84  \n",
       "21262           1.800000     1.414214         1.500000          12.80  \n",
       "\n",
       "[21263 rows x 82 columns]"
      ]
     },
     "metadata": {},
     "output_type": "display_data"
    }
   ],
   "source": [
    "df = pd.read_csv(\"../data/dataset_condutividade.csv\", sep = ',')\n",
    "display(df)"
   ]
  },
  {
   "cell_type": "markdown",
   "metadata": {},
   "source": [
    "Após isso, é possível remover dados faltantes e exibir novamente o dataframe."
   ]
  },
  {
   "cell_type": "code",
   "execution_count": 10,
   "metadata": {},
   "outputs": [
    {
     "data": {
      "text/html": [
       "<div>\n",
       "<style scoped>\n",
       "    .dataframe tbody tr th:only-of-type {\n",
       "        vertical-align: middle;\n",
       "    }\n",
       "\n",
       "    .dataframe tbody tr th {\n",
       "        vertical-align: top;\n",
       "    }\n",
       "\n",
       "    .dataframe thead th {\n",
       "        text-align: right;\n",
       "    }\n",
       "</style>\n",
       "<table border=\"1\" class=\"dataframe\">\n",
       "  <thead>\n",
       "    <tr style=\"text-align: right;\">\n",
       "      <th></th>\n",
       "      <th>number_of_elements</th>\n",
       "      <th>mean_atomic_mass</th>\n",
       "      <th>wtd_mean_atomic_mass</th>\n",
       "      <th>gmean_atomic_mass</th>\n",
       "      <th>wtd_gmean_atomic_mass</th>\n",
       "      <th>entropy_atomic_mass</th>\n",
       "      <th>wtd_entropy_atomic_mass</th>\n",
       "      <th>range_atomic_mass</th>\n",
       "      <th>wtd_range_atomic_mass</th>\n",
       "      <th>std_atomic_mass</th>\n",
       "      <th>...</th>\n",
       "      <th>wtd_mean_Valence</th>\n",
       "      <th>gmean_Valence</th>\n",
       "      <th>wtd_gmean_Valence</th>\n",
       "      <th>entropy_Valence</th>\n",
       "      <th>wtd_entropy_Valence</th>\n",
       "      <th>range_Valence</th>\n",
       "      <th>wtd_range_Valence</th>\n",
       "      <th>std_Valence</th>\n",
       "      <th>wtd_std_Valence</th>\n",
       "      <th>critical_temp</th>\n",
       "    </tr>\n",
       "  </thead>\n",
       "  <tbody>\n",
       "    <tr>\n",
       "      <th>0</th>\n",
       "      <td>4</td>\n",
       "      <td>88.944468</td>\n",
       "      <td>57.862692</td>\n",
       "      <td>66.361592</td>\n",
       "      <td>36.116612</td>\n",
       "      <td>1.181795</td>\n",
       "      <td>1.062396</td>\n",
       "      <td>122.90607</td>\n",
       "      <td>31.794921</td>\n",
       "      <td>51.968828</td>\n",
       "      <td>...</td>\n",
       "      <td>2.257143</td>\n",
       "      <td>2.213364</td>\n",
       "      <td>2.219783</td>\n",
       "      <td>1.368922</td>\n",
       "      <td>1.066221</td>\n",
       "      <td>1</td>\n",
       "      <td>1.085714</td>\n",
       "      <td>0.433013</td>\n",
       "      <td>0.437059</td>\n",
       "      <td>29.00</td>\n",
       "    </tr>\n",
       "    <tr>\n",
       "      <th>1</th>\n",
       "      <td>5</td>\n",
       "      <td>92.729214</td>\n",
       "      <td>58.518416</td>\n",
       "      <td>73.132787</td>\n",
       "      <td>36.396602</td>\n",
       "      <td>1.449309</td>\n",
       "      <td>1.057755</td>\n",
       "      <td>122.90607</td>\n",
       "      <td>36.161939</td>\n",
       "      <td>47.094633</td>\n",
       "      <td>...</td>\n",
       "      <td>2.257143</td>\n",
       "      <td>1.888175</td>\n",
       "      <td>2.210679</td>\n",
       "      <td>1.557113</td>\n",
       "      <td>1.047221</td>\n",
       "      <td>2</td>\n",
       "      <td>1.128571</td>\n",
       "      <td>0.632456</td>\n",
       "      <td>0.468606</td>\n",
       "      <td>26.00</td>\n",
       "    </tr>\n",
       "    <tr>\n",
       "      <th>2</th>\n",
       "      <td>4</td>\n",
       "      <td>88.944468</td>\n",
       "      <td>57.885242</td>\n",
       "      <td>66.361592</td>\n",
       "      <td>36.122509</td>\n",
       "      <td>1.181795</td>\n",
       "      <td>0.975980</td>\n",
       "      <td>122.90607</td>\n",
       "      <td>35.741099</td>\n",
       "      <td>51.968828</td>\n",
       "      <td>...</td>\n",
       "      <td>2.271429</td>\n",
       "      <td>2.213364</td>\n",
       "      <td>2.232679</td>\n",
       "      <td>1.368922</td>\n",
       "      <td>1.029175</td>\n",
       "      <td>1</td>\n",
       "      <td>1.114286</td>\n",
       "      <td>0.433013</td>\n",
       "      <td>0.444697</td>\n",
       "      <td>19.00</td>\n",
       "    </tr>\n",
       "    <tr>\n",
       "      <th>3</th>\n",
       "      <td>4</td>\n",
       "      <td>88.944468</td>\n",
       "      <td>57.873967</td>\n",
       "      <td>66.361592</td>\n",
       "      <td>36.119560</td>\n",
       "      <td>1.181795</td>\n",
       "      <td>1.022291</td>\n",
       "      <td>122.90607</td>\n",
       "      <td>33.768010</td>\n",
       "      <td>51.968828</td>\n",
       "      <td>...</td>\n",
       "      <td>2.264286</td>\n",
       "      <td>2.213364</td>\n",
       "      <td>2.226222</td>\n",
       "      <td>1.368922</td>\n",
       "      <td>1.048834</td>\n",
       "      <td>1</td>\n",
       "      <td>1.100000</td>\n",
       "      <td>0.433013</td>\n",
       "      <td>0.440952</td>\n",
       "      <td>22.00</td>\n",
       "    </tr>\n",
       "    <tr>\n",
       "      <th>4</th>\n",
       "      <td>4</td>\n",
       "      <td>88.944468</td>\n",
       "      <td>57.840143</td>\n",
       "      <td>66.361592</td>\n",
       "      <td>36.110716</td>\n",
       "      <td>1.181795</td>\n",
       "      <td>1.129224</td>\n",
       "      <td>122.90607</td>\n",
       "      <td>27.848743</td>\n",
       "      <td>51.968828</td>\n",
       "      <td>...</td>\n",
       "      <td>2.242857</td>\n",
       "      <td>2.213364</td>\n",
       "      <td>2.206963</td>\n",
       "      <td>1.368922</td>\n",
       "      <td>1.096052</td>\n",
       "      <td>1</td>\n",
       "      <td>1.057143</td>\n",
       "      <td>0.433013</td>\n",
       "      <td>0.428809</td>\n",
       "      <td>23.00</td>\n",
       "    </tr>\n",
       "    <tr>\n",
       "      <th>...</th>\n",
       "      <td>...</td>\n",
       "      <td>...</td>\n",
       "      <td>...</td>\n",
       "      <td>...</td>\n",
       "      <td>...</td>\n",
       "      <td>...</td>\n",
       "      <td>...</td>\n",
       "      <td>...</td>\n",
       "      <td>...</td>\n",
       "      <td>...</td>\n",
       "      <td>...</td>\n",
       "      <td>...</td>\n",
       "      <td>...</td>\n",
       "      <td>...</td>\n",
       "      <td>...</td>\n",
       "      <td>...</td>\n",
       "      <td>...</td>\n",
       "      <td>...</td>\n",
       "      <td>...</td>\n",
       "      <td>...</td>\n",
       "      <td>...</td>\n",
       "    </tr>\n",
       "    <tr>\n",
       "      <th>21258</th>\n",
       "      <td>4</td>\n",
       "      <td>106.957877</td>\n",
       "      <td>53.095769</td>\n",
       "      <td>82.515384</td>\n",
       "      <td>43.135565</td>\n",
       "      <td>1.177145</td>\n",
       "      <td>1.254119</td>\n",
       "      <td>146.88130</td>\n",
       "      <td>15.504479</td>\n",
       "      <td>65.764081</td>\n",
       "      <td>...</td>\n",
       "      <td>3.555556</td>\n",
       "      <td>3.223710</td>\n",
       "      <td>3.519911</td>\n",
       "      <td>1.377820</td>\n",
       "      <td>0.913658</td>\n",
       "      <td>1</td>\n",
       "      <td>2.168889</td>\n",
       "      <td>0.433013</td>\n",
       "      <td>0.496904</td>\n",
       "      <td>2.44</td>\n",
       "    </tr>\n",
       "    <tr>\n",
       "      <th>21259</th>\n",
       "      <td>5</td>\n",
       "      <td>92.266740</td>\n",
       "      <td>49.021367</td>\n",
       "      <td>64.812662</td>\n",
       "      <td>32.867748</td>\n",
       "      <td>1.323287</td>\n",
       "      <td>1.571630</td>\n",
       "      <td>188.38390</td>\n",
       "      <td>7.353333</td>\n",
       "      <td>69.232655</td>\n",
       "      <td>...</td>\n",
       "      <td>2.047619</td>\n",
       "      <td>2.168944</td>\n",
       "      <td>2.038991</td>\n",
       "      <td>1.594167</td>\n",
       "      <td>1.337246</td>\n",
       "      <td>1</td>\n",
       "      <td>0.904762</td>\n",
       "      <td>0.400000</td>\n",
       "      <td>0.212959</td>\n",
       "      <td>122.10</td>\n",
       "    </tr>\n",
       "    <tr>\n",
       "      <th>21260</th>\n",
       "      <td>2</td>\n",
       "      <td>99.663190</td>\n",
       "      <td>95.609104</td>\n",
       "      <td>99.433882</td>\n",
       "      <td>95.464320</td>\n",
       "      <td>0.690847</td>\n",
       "      <td>0.530198</td>\n",
       "      <td>13.51362</td>\n",
       "      <td>53.041104</td>\n",
       "      <td>6.756810</td>\n",
       "      <td>...</td>\n",
       "      <td>4.800000</td>\n",
       "      <td>4.472136</td>\n",
       "      <td>4.781762</td>\n",
       "      <td>0.686962</td>\n",
       "      <td>0.450561</td>\n",
       "      <td>1</td>\n",
       "      <td>3.200000</td>\n",
       "      <td>0.500000</td>\n",
       "      <td>0.400000</td>\n",
       "      <td>1.98</td>\n",
       "    </tr>\n",
       "    <tr>\n",
       "      <th>21261</th>\n",
       "      <td>2</td>\n",
       "      <td>99.663190</td>\n",
       "      <td>97.095602</td>\n",
       "      <td>99.433882</td>\n",
       "      <td>96.901083</td>\n",
       "      <td>0.690847</td>\n",
       "      <td>0.640883</td>\n",
       "      <td>13.51362</td>\n",
       "      <td>31.115202</td>\n",
       "      <td>6.756810</td>\n",
       "      <td>...</td>\n",
       "      <td>4.690000</td>\n",
       "      <td>4.472136</td>\n",
       "      <td>4.665819</td>\n",
       "      <td>0.686962</td>\n",
       "      <td>0.577601</td>\n",
       "      <td>1</td>\n",
       "      <td>2.210000</td>\n",
       "      <td>0.500000</td>\n",
       "      <td>0.462493</td>\n",
       "      <td>1.84</td>\n",
       "    </tr>\n",
       "    <tr>\n",
       "      <th>21262</th>\n",
       "      <td>3</td>\n",
       "      <td>87.468333</td>\n",
       "      <td>86.858500</td>\n",
       "      <td>82.555758</td>\n",
       "      <td>80.458722</td>\n",
       "      <td>1.041270</td>\n",
       "      <td>0.895229</td>\n",
       "      <td>71.75500</td>\n",
       "      <td>43.144000</td>\n",
       "      <td>29.905282</td>\n",
       "      <td>...</td>\n",
       "      <td>4.500000</td>\n",
       "      <td>4.762203</td>\n",
       "      <td>4.242641</td>\n",
       "      <td>1.054920</td>\n",
       "      <td>0.970116</td>\n",
       "      <td>3</td>\n",
       "      <td>1.800000</td>\n",
       "      <td>1.414214</td>\n",
       "      <td>1.500000</td>\n",
       "      <td>12.80</td>\n",
       "    </tr>\n",
       "  </tbody>\n",
       "</table>\n",
       "<p>21263 rows × 82 columns</p>\n",
       "</div>"
      ],
      "text/plain": [
       "       number_of_elements  mean_atomic_mass  wtd_mean_atomic_mass  \\\n",
       "0                       4         88.944468             57.862692   \n",
       "1                       5         92.729214             58.518416   \n",
       "2                       4         88.944468             57.885242   \n",
       "3                       4         88.944468             57.873967   \n",
       "4                       4         88.944468             57.840143   \n",
       "...                   ...               ...                   ...   \n",
       "21258                   4        106.957877             53.095769   \n",
       "21259                   5         92.266740             49.021367   \n",
       "21260                   2         99.663190             95.609104   \n",
       "21261                   2         99.663190             97.095602   \n",
       "21262                   3         87.468333             86.858500   \n",
       "\n",
       "       gmean_atomic_mass  wtd_gmean_atomic_mass  entropy_atomic_mass  \\\n",
       "0              66.361592              36.116612             1.181795   \n",
       "1              73.132787              36.396602             1.449309   \n",
       "2              66.361592              36.122509             1.181795   \n",
       "3              66.361592              36.119560             1.181795   \n",
       "4              66.361592              36.110716             1.181795   \n",
       "...                  ...                    ...                  ...   \n",
       "21258          82.515384              43.135565             1.177145   \n",
       "21259          64.812662              32.867748             1.323287   \n",
       "21260          99.433882              95.464320             0.690847   \n",
       "21261          99.433882              96.901083             0.690847   \n",
       "21262          82.555758              80.458722             1.041270   \n",
       "\n",
       "       wtd_entropy_atomic_mass  range_atomic_mass  wtd_range_atomic_mass  \\\n",
       "0                     1.062396          122.90607              31.794921   \n",
       "1                     1.057755          122.90607              36.161939   \n",
       "2                     0.975980          122.90607              35.741099   \n",
       "3                     1.022291          122.90607              33.768010   \n",
       "4                     1.129224          122.90607              27.848743   \n",
       "...                        ...                ...                    ...   \n",
       "21258                 1.254119          146.88130              15.504479   \n",
       "21259                 1.571630          188.38390               7.353333   \n",
       "21260                 0.530198           13.51362              53.041104   \n",
       "21261                 0.640883           13.51362              31.115202   \n",
       "21262                 0.895229           71.75500              43.144000   \n",
       "\n",
       "       std_atomic_mass  ...  wtd_mean_Valence  gmean_Valence  \\\n",
       "0            51.968828  ...          2.257143       2.213364   \n",
       "1            47.094633  ...          2.257143       1.888175   \n",
       "2            51.968828  ...          2.271429       2.213364   \n",
       "3            51.968828  ...          2.264286       2.213364   \n",
       "4            51.968828  ...          2.242857       2.213364   \n",
       "...                ...  ...               ...            ...   \n",
       "21258        65.764081  ...          3.555556       3.223710   \n",
       "21259        69.232655  ...          2.047619       2.168944   \n",
       "21260         6.756810  ...          4.800000       4.472136   \n",
       "21261         6.756810  ...          4.690000       4.472136   \n",
       "21262        29.905282  ...          4.500000       4.762203   \n",
       "\n",
       "       wtd_gmean_Valence  entropy_Valence  wtd_entropy_Valence  range_Valence  \\\n",
       "0               2.219783         1.368922             1.066221              1   \n",
       "1               2.210679         1.557113             1.047221              2   \n",
       "2               2.232679         1.368922             1.029175              1   \n",
       "3               2.226222         1.368922             1.048834              1   \n",
       "4               2.206963         1.368922             1.096052              1   \n",
       "...                  ...              ...                  ...            ...   \n",
       "21258           3.519911         1.377820             0.913658              1   \n",
       "21259           2.038991         1.594167             1.337246              1   \n",
       "21260           4.781762         0.686962             0.450561              1   \n",
       "21261           4.665819         0.686962             0.577601              1   \n",
       "21262           4.242641         1.054920             0.970116              3   \n",
       "\n",
       "       wtd_range_Valence  std_Valence  wtd_std_Valence  critical_temp  \n",
       "0               1.085714     0.433013         0.437059          29.00  \n",
       "1               1.128571     0.632456         0.468606          26.00  \n",
       "2               1.114286     0.433013         0.444697          19.00  \n",
       "3               1.100000     0.433013         0.440952          22.00  \n",
       "4               1.057143     0.433013         0.428809          23.00  \n",
       "...                  ...          ...              ...            ...  \n",
       "21258           2.168889     0.433013         0.496904           2.44  \n",
       "21259           0.904762     0.400000         0.212959         122.10  \n",
       "21260           3.200000     0.500000         0.400000           1.98  \n",
       "21261           2.210000     0.500000         0.462493           1.84  \n",
       "21262           1.800000     1.414214         1.500000          12.80  \n",
       "\n",
       "[21263 rows x 82 columns]"
      ]
     },
     "metadata": {},
     "output_type": "display_data"
    }
   ],
   "source": [
    "df = df.dropna()\n",
    "display(df)"
   ]
  },
  {
   "cell_type": "markdown",
   "metadata": {},
   "source": [
    "É notório que o número de linhas (rows) continuou a mesma inclusive após a remoção de possíveis dados faltantes, o que implica que o dataset escolhido não apresenta dados ausentes!"
   ]
  },
  {
   "cell_type": "markdown",
   "metadata": {},
   "source": [
    "### 🗂️ **Estatísticas descritivas dos dados do target**"
   ]
  },
  {
   "cell_type": "markdown",
   "metadata": {},
   "source": [
    "Visando uma melhor compreensão e análise dos dados referentes à temperatura crítica (``critical_temp``), que consiste no target do presente projeto, serão calculadas algumas estatísticas descritivas desses. Para isso, será utilizada a biblioteca `statistics`. As estatísticas escolhidas consistiram na média - visto que essa representa o modelo baseline que pode ser definido para os dados -, no desvio-padrão - visando uma comparação com as métricas de erro como o Erro quadrático Médio (RMSE) dos modelos a serem discutidos -, bem como na mediana e nos valores mínimo e máximo - utilizados para explicar a relação denotada entre a média e o desvio padrão. [3]"
   ]
  },
  {
   "cell_type": "markdown",
   "metadata": {},
   "source": [
    "#### 🟡 **Média**"
   ]
  },
  {
   "cell_type": "markdown",
   "metadata": {},
   "source": [
    "<div style=\"text-align: justify\">\n",
    "A média é calculada dividindo a soma de todos os valores de uma variável aleatória — neste caso, a temperatura crítica — pelo número total de valores [Fórmula 1]. Assim, a média representa uma tendência central, refletindo um valor intermediário entre os dados analisados. \n",
    "</div>"
   ]
  },
  {
   "cell_type": "markdown",
   "metadata": {},
   "source": [
    "$$\n",
    "\\mu = \\frac{1}{N} \\sum_{i=1}^{N} X_i\n",
    "$$\n",
    "\n",
    "\n",
    " <center> [Fórmula 1: Média]"
   ]
  },
  {
   "cell_type": "code",
   "execution_count": 11,
   "metadata": {},
   "outputs": [
    {
     "name": "stdout",
     "output_type": "stream",
     "text": [
      "A média da temperatura crítica consiste em 34.42122 K.\n"
     ]
    }
   ],
   "source": [
    "media_temp_critica = st.mean(df['critical_temp'])\n",
    "print(f\"A média da temperatura crítica consiste em {media_temp_critica:.5f} K.\")"
   ]
  },
  {
   "cell_type": "markdown",
   "metadata": {},
   "source": [
    "#### 🟡 **Mediana**"
   ]
  },
  {
   "cell_type": "markdown",
   "metadata": {},
   "source": [
    "<div style=\"text-align: justify\">\n",
    "A mediana é o valor que divide uma variável aleatória em duas metades iguais, representando, assim, o ponto central dos dados analisados. Por ser menos suscetível à influência de outliers, a mediana é uma métrica mais robusta em situações onde há valores discrepantes.\n",
    "</div>"
   ]
  },
  {
   "cell_type": "code",
   "execution_count": 12,
   "metadata": {},
   "outputs": [
    {
     "name": "stdout",
     "output_type": "stream",
     "text": [
      "A mediana da temperatura crítica consiste em 20.0 K.\n"
     ]
    }
   ],
   "source": [
    "mediana_temp_critica = st.median(df['critical_temp'])\n",
    "print(f\"A mediana da temperatura crítica consiste em {mediana_temp_critica} K.\")"
   ]
  },
  {
   "cell_type": "markdown",
   "metadata": {},
   "source": [
    "#### 🟡 **Desvio padrão**"
   ]
  },
  {
   "cell_type": "markdown",
   "metadata": {},
   "source": [
    "<div style=\"text-align: justify\">\n",
    "O desvio padrão, calculado a partir da raiz quadrada da variância, compreende uma medida que exprime o quão distantes da média encontram-se os valores de uma variável aleatória - no caso, a temperatura crítica. Isso possibilita uma noção da distribuição dos dados.\n",
    "</div>"
   ]
  },
  {
   "cell_type": "markdown",
   "metadata": {},
   "source": [
    "$$\n",
    "\\sigma = \\sqrt{\\mathrm{Var(X)}} =  \\sqrt{\\frac{1}{N} \\sum_{i=1}^{N} (X_i - \\mu)^2}\n",
    "$$\n",
    "\n",
    "<center> [Fórmula 2: Desvio Padrão]"
   ]
  },
  {
   "cell_type": "code",
   "execution_count": 13,
   "metadata": {},
   "outputs": [
    {
     "name": "stdout",
     "output_type": "stream",
     "text": [
      "O desvio padrão da temperatura crítica consiste em 34.25436244874411 K.\n"
     ]
    }
   ],
   "source": [
    "desvio_padrao_temp_critica = st.stdev(df['critical_temp'])\n",
    "desvio_padrao_temp_critica\n",
    "print(f\"O desvio padrão da temperatura crítica consiste em {desvio_padrao_temp_critica} K.\")"
   ]
  },
  {
   "cell_type": "markdown",
   "metadata": {},
   "source": [
    "#### 🟡 **Valores mínimo e máximo**"
   ]
  },
  {
   "cell_type": "markdown",
   "metadata": {},
   "source": [
    "<div style=\"text-align: justify\">\n",
    "Os valores mínimo e máximo, como os próprios nomes sugerem, são aqueles que representam, respectivamente, o menor e o maior valor do conjunto de dados analisados. Conhecer esses valores pode ser útil para compreender o resultado de algumas métricas, como a média e o desvio padrão.\n",
    "</div>"
   ]
  },
  {
   "cell_type": "code",
   "execution_count": 27,
   "metadata": {},
   "outputs": [
    {
     "name": "stdout",
     "output_type": "stream",
     "text": [
      "O valor mínimo da temperatura crítica consiste em 0.00021 K.\n"
     ]
    }
   ],
   "source": [
    "min_temp_critica = min(df['critical_temp'])\n",
    "print(f\"O valor mínimo da temperatura crítica consiste em {min_temp_critica} K.\")"
   ]
  },
  {
   "cell_type": "code",
   "execution_count": 26,
   "metadata": {},
   "outputs": [
    {
     "name": "stdout",
     "output_type": "stream",
     "text": [
      "O valor máximo da temperatura crítica consiste em 185.0 K.\n"
     ]
    }
   ],
   "source": [
    "max_temp_critica = max(df['critical_temp'])\n",
    "print(f\"O valor máximo da temperatura crítica consiste em {max_temp_critica} K.\")"
   ]
  },
  {
   "cell_type": "markdown",
   "metadata": {},
   "source": [
    "### Resumindo..."
   ]
  },
  {
   "cell_type": "markdown",
   "metadata": {},
   "source": [
    "<div style=\"text-align: justify\">\n",
    "É notório que o desvio padrão e a média da temperatura crítica resultaram em números consideravelmente próximos, uma explicação plausível para tal fenômeno consiste na distribuição desigual dos dados do dataset que dizem respeito ao target escolhido, haja vista a presença de um outlier, bem como outros valores discrepantes. Essa relação é denotada levando em consideração os valores máximo e mínimo, que são muito distantes, assim como a representação gráfica do boxplot [Gráfico 1], onde é evidente a presença de um outlier e uma grande variação no que tange ao quarto quartil dos dados - o qual é representado pela considerável distância entre o topo da \"caixa azul\" e a linha preta mais acima no gráfico. Ou seja, pode-se afirmar que a majoritária parte dos dados se encontra próximo a mediana (tal como expresso pelo tamanho da caixa), no entanto, os dados com valores mais elevados, localizados no quarto quartil, estão mais dispersos e, portanto, acabam afetando a média, aumentando o seu valor.\n",
    "</div>"
   ]
  },
  {
   "cell_type": "code",
   "execution_count": 16,
   "metadata": {},
   "outputs": [
    {
     "data": {
      "image/png": "[encoded data removed]",
      "text/plain": [
       "<Figure size 640x480 with 1 Axes>"
      ]
     },
     "metadata": {},
     "output_type": "display_data"
    }
   ],
   "source": [
    "sns.boxplot(df['critical_temp'])\n",
    "plt.ylabel(\"Temperatura crítica\")\n",
    "plt.title(\"Distribuição dos dados de temperatura crítica - Boxplot\");"
   ]
  },
  {
   "cell_type": "markdown",
   "metadata": {},
   "source": [
    "<center> [Gráfico 1: Boxplot do dataset]"
   ]
  },
  {
   "cell_type": "markdown",
   "metadata": {},
   "source": [
    "### 🎯**Split de dados**"
   ]
  },
  {
   "cell_type": "markdown",
   "metadata": {},
   "source": [
    "Para que ao final do processo seja possível analisar a eficácia do modelo, utilizando o método de validação cruzada pautada na métrica do RMSE, antes de tudo, é preciso separar o conjunto de dados entre dados de *treino* (80% dos dados originais) e dados de *teste* (20% restante dos dados), através da função ``train_test_split`` do módulo ``model_selection`` da biblioteca ``scikit-learn``. Para garantir a reprodutibilidade de tal split, uma semente aleatória - que se manterá a mesma para todos os processos realizados ao longo do trabalho - será definida e utilizada. \n"
   ]
  },
  {
   "cell_type": "code",
   "execution_count": 17,
   "metadata": {},
   "outputs": [],
   "source": [
    "semente_aleatoria = 101820\n",
    "tamanho_teste = 0.2\n",
    "\n",
    "indices = df.index\n",
    "indices_treino, indices_teste = train_test_split(\n",
    "    indices, test_size=tamanho_teste, random_state=semente_aleatoria, shuffle=True\n",
    ")\n",
    "\n",
    "df_treino = df.loc[indices_treino]\n",
    "df_teste = df.loc[indices_teste]\n"
   ]
  },
  {
   "cell_type": "markdown",
   "metadata": {},
   "source": [
    "Com a divisão de treino e teste estabelecida, agora é possível separar as colunas de ambos os dataframes em *target* (``critical_temp``) e *features* (demais colunas). É possível realizar essa divisão por meio dos índices das colunas no dataframe original."
   ]
  },
  {
   "cell_type": "code",
   "execution_count": 18,
   "metadata": {},
   "outputs": [],
   "source": [
    "features = list(df.columns)[:81]\n",
    "target = [list(df.columns)[-1]]"
   ]
  },
  {
   "cell_type": "markdown",
   "metadata": {},
   "source": [
    "*Dados de Treino*"
   ]
  },
  {
   "cell_type": "code",
   "execution_count": 19,
   "metadata": {},
   "outputs": [],
   "source": [
    "df_treino_target = df_treino.reindex(target, axis=1)\n",
    "df_treino_features = df_treino.reindex(features, axis=1)"
   ]
  },
  {
   "cell_type": "markdown",
   "metadata": {},
   "source": [
    "*Dados de Teste*"
   ]
  },
  {
   "cell_type": "code",
   "execution_count": 20,
   "metadata": {},
   "outputs": [],
   "source": [
    "df_teste_target = df_teste.reindex(target, axis=1)\n",
    "df_teste_features = df_teste.reindex(features, axis=1)"
   ]
  },
  {
   "cell_type": "markdown",
   "metadata": {},
   "source": [
    "<div style=\"text-align: justify\">\n",
    "A partir desses dataframes, é possível criar novos arquivos com extensão csv, a fim de que a divisão aqui estabelecida possa ser facilmente acessada nos demais notebooks do Projeto final.\n",
    "</div>"
   ]
  },
  {
   "cell_type": "code",
   "execution_count": 21,
   "metadata": {},
   "outputs": [],
   "source": [
    "df_treino_target.to_csv(\"df_treino_target.csv\", index=False)\n",
    "df_treino_features.to_csv(\"df_treino_features.csv\", index=False)\n",
    "\n",
    "df_teste_target.to_csv(\"df_teste_target.csv\", index=False)\n",
    "df_teste_features.to_csv(\"df_teste_features.csv\", index=False)"
   ]
  },
  {
   "cell_type": "markdown",
   "metadata": {},
   "source": [
    "<div style=\"text-align: justify\">\n",
    "Agora, serão estabelecidos os arrays que representam os dados de treino e, em seguida, os de teste, e são essenciais para a implementação dos modelos preditivos que serão introduzidos no decorrer do estudo em questão.\n",
    "</div>"
   ]
  },
  {
   "cell_type": "code",
   "execution_count": 22,
   "metadata": {},
   "outputs": [],
   "source": [
    "X_treino = df_treino_features.values\n",
    "y_treino = df_treino_target.values.ravel()\n",
    "\n",
    "X_teste = df_teste_features.values\n",
    "y_teste = df_teste_target.values.ravel()"
   ]
  },
  {
   "cell_type": "markdown",
   "metadata": {},
   "source": [
    "### ⚔️ **Desafio: É possível superar o baseline?**"
   ]
  },
  {
   "cell_type": "markdown",
   "metadata": {},
   "source": [
    "Essa é a questão que norteará o desenvolvimento deste trabalho! No decorrer dele, o intuito é encontrar pelo menos um modelo capaz de prever o target sobredito apresentando uma métrica que seja melhor que a do baseline, modelo preditivo mais simples. Antes de tudo, porém, é de extrema importância definir tal conceito, visando a implementação desse modelo sequencialmente. Assim, este modelo consiste em um modelo linear, contudo, como só apresenta o intercepto, pois $\\beta_1 = 0$, apresenta-se como uma função constante que possui valor igual à média de $y$, isto é, do target. Ou seja, de modo sucinto, é válido representar o modelo baseline como: [6]\n",
    "$$\n",
    "y = \\beta_0 + \\epsilon.\n",
    "$$\n",
    "<center> [Fórmula 3: Representação da baseline]<center>"
   ]
  },
  {
   "cell_type": "markdown",
   "metadata": {},
   "source": [
    "Onde $\\epsilon$ é o erro associado e $\\beta_0$ consiste na média - ou valor esperado - de $y$ (target do modelo). Assim, tem-se:"
   ]
  },
  {
   "cell_type": "markdown",
   "metadata": {},
   "source": [
    "$$\n",
    "y = \\mu + \\epsilon.\n",
    "$$\n",
    "\n",
    "<center> [Fórmula 4: Representação da baseline como média]<center>"
   ]
  },
  {
   "cell_type": "markdown",
   "metadata": {},
   "source": [
    "Visando criar um modelo baseline com o intuito de comparação a posteriori, será utilizado o `DummyRegressor` do `scikit-learn`. Tal processo é realizado a seguir."
   ]
  },
  {
   "cell_type": "code",
   "execution_count": 23,
   "metadata": {},
   "outputs": [],
   "source": [
    "modelo_baseline = DummyRegressor()\n",
    "\n",
    "modelo_baseline.fit(X_treino,y_treino) \n",
    "\n",
    "y_previsto_baseline = modelo_baseline.predict(X_teste)"
   ]
  },
  {
   "cell_type": "markdown",
   "metadata": {},
   "source": [
    "### 📏 **Métrica RMSE**"
   ]
  },
  {
   "cell_type": "markdown",
   "metadata": {},
   "source": [
    "<div style=\"text-align: justify\">\n",
    "Métricas são ferramentas essenciais para a comparação da eficiência de modelos, haja vista que exprimem a performance do modelo por meio de um valor numérico. É interessante ressaltar a existência de diversas métricas, sendo que cada uma reporta algo sobre o comportamento do modelo analisado. Neste projeto, a métrica escolhida foi a raiz do erro quadrático médio (RMSE - root mean squared error, do inglês).\n",
    "\n",
    "Resumidamente, a RMSE consiste na raiz quadrada do MSE - outra métrica de performance, de modo que é uma métrica intrigante, pois, já que apresenta a mesma unidade de medida do target observado, permite uma percepção de o quanto o modelo treinado está errando em média, motivo pelo qual tal métrica foi selecionada para sustentar a comparação entre os modelos deste trabalho. [5]\n",
    "\n",
    "Abaixo, encontra-se exibida a fórmula matemática da RMSE.\n",
    "</div>"
   ]
  },
  {
   "cell_type": "markdown",
   "metadata": {},
   "source": [
    "$$\n",
    "\\mathrm{RMSE} = \\sqrt{\\mathrm{MSE}} = \\sqrt{\\sum_{i=1}^{N} \\frac{(y_i - \\hat{y}_i)^2}{N}}.\n",
    "$$"
   ]
  },
  {
   "cell_type": "markdown",
   "metadata": {},
   "source": [
    "<center> [Fórmula 5: Raiz do erro quadrático médio - RMSE]"
   ]
  },
  {
   "cell_type": "markdown",
   "metadata": {},
   "source": [
    "Onde N representa a quantidade de exemplos do conjunto de dados com base no qual a métrica é calculada, $y_i$ consiste no target do exemplo $i$, já $\\hat{y}_i$ corresponde ao valor previsto pelo modelo para o exemplo $i$. [5]"
   ]
  },
  {
   "cell_type": "markdown",
   "metadata": {},
   "source": [
    "### ✨ **Validação Cruzada**"
   ]
  },
  {
   "cell_type": "markdown",
   "metadata": {},
   "source": [
    "<div style=\"text-align: justify\">\n",
    "A validação cruzada consiste em um método que contribui para a redução do efeito do acaso, e, por isso, representa uma boa estratégia para análise da performance de modelos, mas, cabe ressaltar que também pode ser utilizada para otimização de hiperparâmetros, como será apresentado em um próximo notebook.\n",
    "\n",
    "À vista disso, no decorrer deste estudo, os modelos serão avaliados utilizando validação cruzada $k$​-fold, em que o conjunto de dados é segregado em $k$ subconjuntos distintos com mesmo tamanho (ou praticamente o mesmo tamanho). Em seguida, são realizadas iterações onde um desses subconjuntos é tido como teste enquanto o restante compreende os dados de treino (é importante denotar que isso ocorre de modo com que cada um dos subconjuntos seja o conjunto de teste somente uma vez). \n",
    "\n",
    "Para avaliar o modelo a ser estudado utilizando essa estratégia, ele é treinado e realiza-se $k$ estimativas da sua performance e, por fim, a média delas compreende a forma de avaliação do modelo em questão. Assim, evidencia-se que a menor susceptibilidade da validação cruzada ao efeito do acaso decorre do fato de que, por pautar-se na média das métricas, para o acaso nos influenciar negativamente, as $k$ previsões do modelo deveriam ser \"azaradas\", panorama consideravelmente improvável, sobretudo em comparação com uma única avaliação do modelo. [7]\n",
    "\n",
    "</div>\n",
    "\n",
    "Portanto, tendo em vista as considerações apresentadas acima, ressalta-se que, no decorrer deste estudo, visando uma análise mais confiável da performance dos modelos, eles serão avaliados utilizando validação cruzada. A seguir, com o intuito de encontrar a RMSE do modelo baseline, foi utilizada a função ``cross_val_score`` do módulo ``model_selection`` da biblioteca ``scikit-learn``."
   ]
  },
  {
   "cell_type": "code",
   "execution_count": 24,
   "metadata": {},
   "outputs": [
    {
     "name": "stdout",
     "output_type": "stream",
     "text": [
      "A média das métricas de RMSE do modelo baseline foi de 33.88748698048825 K.\n"
     ]
    }
   ],
   "source": [
    "scores_rl= cross_val_score(modelo_baseline, X_teste, y_teste, cv=10, scoring=\"neg_root_mean_squared_error\")\n",
    "RMSE_baseline = np.mean(scores_rl)\n",
    "print(f\"A média das métricas de RMSE do modelo baseline foi de {-RMSE_baseline} K.\")"
   ]
  },
  {
   "cell_type": "markdown",
   "metadata": {},
   "source": [
    "<div style=\"text-align: justify\">\n",
    "Objetivando uma comparação entre os diferentes modelos que serão apresentados neste projeto, a métrica obtida a partir do modelo baseline será armazenada em um dataframe, que, com a implementação de outros modelos preditivos, será atualizado para conter cada uma das métricas analisadas.\n",
    "</div>"
   ]
  },
  {
   "cell_type": "code",
   "execution_count": 25,
   "metadata": {},
   "outputs": [
    {
     "data": {
      "text/html": [
       "<div>\n",
       "<style scoped>\n",
       "    .dataframe tbody tr th:only-of-type {\n",
       "        vertical-align: middle;\n",
       "    }\n",
       "\n",
       "    .dataframe tbody tr th {\n",
       "        vertical-align: top;\n",
       "    }\n",
       "\n",
       "    .dataframe thead th {\n",
       "        text-align: right;\n",
       "    }\n",
       "</style>\n",
       "<table border=\"1\" class=\"dataframe\">\n",
       "  <thead>\n",
       "    <tr style=\"text-align: right;\">\n",
       "      <th></th>\n",
       "      <th>Baseline</th>\n",
       "    </tr>\n",
       "  </thead>\n",
       "  <tbody>\n",
       "    <tr>\n",
       "      <th>0</th>\n",
       "      <td>33.887487</td>\n",
       "    </tr>\n",
       "  </tbody>\n",
       "</table>\n",
       "</div>"
      ],
      "text/plain": [
       "    Baseline\n",
       "0  33.887487"
      ]
     },
     "metadata": {},
     "output_type": "display_data"
    }
   ],
   "source": [
    "modelos = [\"Baseline\"]\n",
    "RMSE = [-RMSE_baseline]\n",
    "\n",
    "df_RMSE = pd.DataFrame(RMSE, columns=modelos)\n",
    "df_RMSE.to_csv(\"df_RMSE_resultados.csv\")\n",
    "\n",
    "display(df_RMSE)\n"
   ]
  },
  {
   "cell_type": "markdown",
   "metadata": {},
   "source": [
    "<div style=\"text-align: justify\">\n",
    "\n",
    "Depois de apresentar a proposta e a motivação do projeto, criar os dataframes de treino e teste, bem como da métrica do baseline (após ser implementado e avaliado), agora, resta \"apenas\" implementar outros modelos preditivos e analisar suas performances para, por fim, compará-las! Além disso, nos demais notebooks do trabalho, serão exploradas otimizações de hiperparâmetros e redução de dimensionalidade... Não perca tempo e vá para o próximo notebook (Desenvolvimento) para descobrir mais!\n",
    "\n",
    "(Observação: O desenvolvimento do trabalho encontra-se dividido em três notebooks principais, cada qual tratando de um tipo de modelo implementado, bem como em um notebook apresentando análise da otimização e redução de dimensionalidade)\n",
    "\n",
    "</div>\n",
    "\n",
    "``Que a sede pela exploração da magia da predição esteja sempre com vocês! ⚔️``"
   ]
  },
  {
   "cell_type": "markdown",
   "metadata": {},
   "source": [
    "## 📚 **Referências!**"
   ]
  },
  {
   "cell_type": "markdown",
   "metadata": {},
   "source": [
    "[1] Branício, Paulo S. «Introdução à Supercondutividade, Suas Aplicações e a Mini-Revolução Provocada Pela Redescoberta Do MGB2: Uma Abordagem Didática». Revista Brasileira de Ensino de Física, vol. 23, n.o 4, dezembro de 2001. DOI.org (Crossref), https://doi.org/10.1590/S0102-47442001000400004.\n",
    "\n",
    "[2] Hamidieh, Kam. «A Data-Driven Statistical Model for Predicting the Critical Temperature of a Superconductor». Computational Materials Science, vol. 154, novembro de 2018, pp. 346–54. DOI.org (Crossref), https://doi.org/10.1016/j.commatsci.2018.07.052.\n",
    "\n",
    "[3] Hamidieh, Kam. Superconductivty Data. UCI Machine Learning Repository, 2018. DOI.org (Datacite), https://doi.org/10.24432/C53P47. \n",
    "\n",
    "[4] Daniel Roberto Cassar. (2024). Jupyter Notebook *LMA-203 1.0 - Estatística descritiva*. [Material não publicado].\n",
    "\n",
    "[5] Daniel Roberto Cassar. (2024). Jupyter Notebook *ATP-203 2.1 - Aprendizado de máquina, k-NN e métricas*. [Material não publicado].\n",
    "\n",
    "[6] Daniel Roberto Cassar. (2024). Jupyter Notebook *ATP-203 3.0 - Modelo linear e baseline*. [Material não publicado].\n",
    "\n",
    "[7] Daniel Roberto Cassar. (2024). Jupyter Notebook *ATP-203 5.0 - Validação cruzada, busca aleatória e busca em grade*. [Material não publicado].\n",
    "\n",
    "[8] Github do projeto: https://github.com/JuliaGuedesASantos/Machine-Learning---Cavaleiros-da-Supernova"
   ]
  }
 ],
 "metadata": {
  "kernelspec": {
   "display_name": "Python 3",
   "language": "python",
   "name": "python3"
  },
  "language_info": {
   "codemirror_mode": {
    "name": "ipython",
    "version": 3
   },
   "file_extension": ".py",
   "mimetype": "text/x-python",
   "name": "python",
   "nbconvert_exporter": "python",
   "pygments_lexer": "ipython3",
   "version": "3.11.6"
  }
 },
 "nbformat": 4,
 "nbformat_minor": 2
}
