{
 "cells": [
  {
   "cell_type": "markdown",
   "metadata": {},
   "source": [
    "# 🔃 Iterações… iterações em todos os lugares"
   ]
  },
  {
   "cell_type": "markdown",
   "metadata": {},
   "source": [
    "Guerreiros da missão: **Tsuru** (Júlia Guedes Almeida dos Santos), **Pólux** (Raquel de Godoy Vianna) e **Tiles** (Thalles José de Souza Cansi)."
   ]
  },
  {
   "cell_type": "markdown",
   "metadata": {},
   "source": [
    "> Mente vazia, oficina do diabo"
   ]
  },
  {
   "cell_type": "markdown",
   "metadata": {},
   "source": [
    "## 🖼️ Enunciado"
   ]
  },
  {
   "cell_type": "markdown",
   "metadata": {},
   "source": [
    "Faça um notebook didático mostrando como funciona o módulo ``itertools`` do Python (https://docs.python.org/3/library/itertools.html). Se estiver em dúvida sobre o que estudar sobre este módulo, dê uma olhada nos iteradores de análise combinatória (``product``, ``permutations``, ``combinations`` e ``combinations_with_replacement``)."
   ]
  },
  {
   "cell_type": "markdown",
   "metadata": {},
   "source": [
    "## 📝 Introdução"
   ]
  },
  {
   "cell_type": "markdown",
   "metadata": {},
   "source": [
    "Nesta nova missão, os três grandes cavaleiros: Tsuru, Pólux e Tiles, se uniram para desvendar os mistérios do módulo ``itertools`` do Python. Este módulo é uma **biblioteca padrão do Python** que fornece várias funções que **operam em iteradores** para produzir **iteradores mais complexos**.\n",
    "\n",
    "Para a missão, vamos estudar 5 funções do módulo ``itertools``: \n",
    "1. 🟥 ``accumulate``\n",
    "2. 🟧 ``product``\n",
    "3. 🟨 ``permutations``\n",
    "4. 🟩 ``combinations``\n",
    "5. 🟦 ``combinations_with_replacement``."
   ]
  },
  {
   "cell_type": "markdown",
   "metadata": {},
   "source": [
    "## 🗡️ Vamos começar"
   ]
  },
  {
   "cell_type": "markdown",
   "metadata": {},
   "source": [
    "### 📚 Importando as bibliotecas"
   ]
  },
  {
   "cell_type": "markdown",
   "metadata": {},
   "source": [
    "Para começar, vamos começar importando a biblioteca ``itertools`` que será utilizada para a missão."
   ]
  },
  {
   "cell_type": "code",
   "execution_count": 5,
   "metadata": {},
   "outputs": [],
   "source": [
    "from itertools import accumulate, product, permutations, combinations, combinations_with_replacement"
   ]
  },
  {
   "cell_type": "markdown",
   "metadata": {},
   "source": [
    "### 🟥 Função ``accumulate``"
   ]
  },
  {
   "cell_type": "markdown",
   "metadata": {},
   "source": [
    "A função ``accumulate`` é utilizada para **acumular** os valores de um iterável. Por padrão, a função acumula os valores utilizando a operação de **adição**. No entanto, é possível passar uma função como argumento para realizar outra operação."
   ]
  },
  {
   "cell_type": "code",
   "execution_count": 10,
   "metadata": {},
   "outputs": [
    {
     "data": {
      "text/plain": [
       "[0.5, 1.5, 3.0]"
      ]
     },
     "execution_count": 10,
     "metadata": {},
     "output_type": "execute_result"
    }
   ],
   "source": [
    "list(accumulate([1, 2, 3, 4, 5]))\n",
    "# Você pode usar compreensão de listas também para realizar mais operações "
   ]
  },
  {
   "cell_type": "markdown",
   "metadata": {},
   "source": [
    "Imagine que você está desenvolvendo um aplicativo para acompanhar os passos diários de uma pessoa. Todos os dias, a pessoa registra quantos passos deu, e você quer mostrar o total acumulado ao longo do mês. A função ``accumulate`` pode ser usada para somar os passos de cada dia e mostrar o progresso total em tempo real, dia após dia."
   ]
  },
  {
   "cell_type": "markdown",
   "metadata": {},
   "source": [
    "### 🟧 Função ``product``"
   ]
  },
  {
   "cell_type": "markdown",
   "metadata": {},
   "source": [
    "A função ``product`` é utilizada para **calcular o produto cartesiano** de dois ou mais iteráveis. O produto cartesiano é um conjunto de todas as possíveis combinações de elementos de dois ou mais conjuntos."
   ]
  },
  {
   "cell_type": "code",
   "execution_count": 15,
   "metadata": {},
   "outputs": [
    {
     "data": {
      "text/plain": [
       "[(1, 'A'), (1, 'B'), (2, 'A'), (2, 'B')]"
      ]
     },
     "execution_count": 15,
     "metadata": {},
     "output_type": "execute_result"
    }
   ],
   "source": [
    "list(product([1, 2], ['A', 'B']))"
   ]
  },
  {
   "cell_type": "markdown",
   "metadata": {},
   "source": [
    "Suponha que você está criando um sistema para gerar códigos promocionais para uma loja. A loja quer combinar diferentes opções, como cores (vermelho, azul), tamanhos (P, M, G), e estilos (casual, esportivo). Usando ``product``, você pode criar todas as combinações possíveis desses atributos e gerar um código para cada uma (por exemplo, \"vermelho-P-casual\", \"azul-M-esportivo\", etc.)."
   ]
  },
  {
   "cell_type": "markdown",
   "metadata": {},
   "source": [
    "### 🟨 Função ``permutations``"
   ]
  },
  {
   "cell_type": "markdown",
   "metadata": {},
   "source": [
    "A função ``permutations`` é utilizada para **calcular todas as permutações** de um iterável. Uma permutação é uma reorganização dos elementos de um conjunto em uma ordem específica."
   ]
  },
  {
   "cell_type": "code",
   "execution_count": 13,
   "metadata": {},
   "outputs": [
    {
     "data": {
      "text/plain": [
       "[(1, 2, 3), (1, 3, 2), (2, 1, 3), (2, 3, 1), (3, 1, 2), (3, 2, 1)]"
      ]
     },
     "execution_count": 13,
     "metadata": {},
     "output_type": "execute_result"
    }
   ],
   "source": [
    "list(permutations([1, 2, 3]))"
   ]
  },
  {
   "cell_type": "markdown",
   "metadata": {},
   "source": [
    "Pense que você está criando um jogo de quebra-cabeça onde o jogador precisa ordenar uma sequência de números ou letras de forma correta. Se você quiser gerar todas as possíveis ordens de uma lista de números, pode usar ``permutations`` para criar todas as permutações. Por exemplo, se o jogador tiver os números [1, 2, 3], a função vai gerar todas as formas de organizar esses números: [1, 2, 3], [1, 3, 2], [2, 1, 3], e assim por diante."
   ]
  },
  {
   "cell_type": "markdown",
   "metadata": {},
   "source": [
    "### 🟩 Função ``combinations``"
   ]
  },
  {
   "cell_type": "markdown",
   "metadata": {},
   "source": [
    "A função ``combinations`` é utilizada para **calcular todas as combinações possíveis** de um iterável. Uma combinação é um subconjunto de elementos de um conjunto, onde a ordem dos elementos não importa."
   ]
  },
  {
   "cell_type": "code",
   "execution_count": null,
   "metadata": {},
   "outputs": [
    {
     "data": {
      "text/plain": [
       "[(1, 2), (1, 3), (1, 4), (2, 3), (2, 4), (3, 4)]"
      ]
     },
     "execution_count": 28,
     "metadata": {},
     "output_type": "execute_result"
    }
   ],
   "source": [
    "list(combinations([1, 2, 3, 4], 2))"
   ]
  },
  {
   "cell_type": "markdown",
   "metadata": {},
   "source": [
    "Imagine que você está desenvolvendo um sistema de loteria, e os jogadores precisam escolher 6 números de um conjunto de 50. Usando ``combinations``, você pode gerar todas as combinações possíveis desses números, sem repetição. Isso ajuda a simular todos os resultados possíveis do sorteio para analisar quais combinações de números têm maior chance de serem sorteadas (embora todas as combinações tenham a mesma probabilidade)."
   ]
  },
  {
   "cell_type": "markdown",
   "metadata": {},
   "source": [
    "### 🟦 Função ``combinations_with_replacement``"
   ]
  },
  {
   "cell_type": "markdown",
   "metadata": {},
   "source": [
    "A função ``combinations_with_replacement`` é utilizada para **calcular todas as combinações possíveis de um iterável, permitindo elementos repetidos**. Isso significa que um elemento pode ser escolhido mais de uma vez em uma combinação."
   ]
  },
  {
   "cell_type": "code",
   "execution_count": null,
   "metadata": {},
   "outputs": [
    {
     "data": {
      "text/plain": [
       "[(1, 1),\n",
       " (1, 2),\n",
       " (1, 3),\n",
       " (1, 4),\n",
       " (2, 2),\n",
       " (2, 3),\n",
       " (2, 4),\n",
       " (3, 3),\n",
       " (3, 4),\n",
       " (4, 4)]"
      ]
     },
     "execution_count": 29,
     "metadata": {},
     "output_type": "execute_result"
    }
   ],
   "source": [
    "list(combinations_with_replacement([1, 2, 3, 4], 2))"
   ]
  },
  {
   "cell_type": "markdown",
   "metadata": {},
   "source": [
    "Suponha que você está criando uma aplicação de sorveteria onde o cliente pode escolher dois sabores de sorvete, mas pode repetir o mesmo sabor duas vezes. Por exemplo, eles podem escolher \"chocolate e baunilha\", ou \"chocolate e chocolate\". Usando ``combinations_with_replacement``, você pode gerar todas as possíveis combinações de sabores, incluindo aquelas que têm o mesmo sabor repetido."
   ]
  },
  {
   "cell_type": "markdown",
   "metadata": {},
   "source": [
    "## 🛡️ Conclusão"
   ]
  },
  {
   "cell_type": "markdown",
   "metadata": {},
   "source": [
    "O **módulo `itertools`** no Python é uma poderosa biblioteca que oferece várias funções que criam iteradores eficientes, focados em economia de memória e performance, especialmente em cenários onde estamos lidando com grandes quantidades de dados ou operações combinatórias complexas. As funções fornecidas por este módulo ajudam a manipular e processar iteráveis de maneira altamente eficiente, evitando a criação de listas intermediárias desnecessárias.\n",
    "\n",
    "Algumas das aplicações mais comuns incluem gerar combinações, permutações, realizar operações de acumulação e produzir produtos cartesianos de iteráveis. Essas operações são amplamente usadas em problemas de análise combinatória, simulações, geração de dados para testes, entre outros.\n",
    "\n",
    "As funções de `itertools` podem ser classificadas em três grandes categorias:\n",
    "\n",
    "1. **Iteradores infinitos**: Como `count`, `cycle` e `repeat`, que permitem gerar sequências infinitas de valores. Esses iteradores são úteis em cenários onde precisamos de uma sequência contínua sem necessidade de armazenamento.\n",
    "\n",
    "2. **Iteradores baseados em terminadores**: Como `accumulate`, `chain`, e `zip_longest`, que trabalham até que todos os itens do iterável sejam processados. Eles são úteis para acumulações, encadeamento de iteráveis, ou para operações que comparam ou combinam listas.\n",
    "\n",
    "3. **Iteradores combinatórios**: Como `product`, `permutations`, `combinations` e `combinations_with_replacement`. Essas funções são essenciais em problemas que envolvem geração de todas as combinações e permutações de elementos, muito usadas em análise combinatória, testes de hipóteses e algoritmos de busca.\n",
    "\n",
    "O `itertools` é um dos módulos mais eficientes para trabalhar com grandes conjuntos de dados em Python, pois utiliza a técnica de *lazy evaluation* [3], ou seja, as operações são realizadas apenas quando necessário, evitando sobrecarga de memória.\n",
    "\n",
    "Nossa missão foi concluída com sucesso! Os cavaleiros Tsuru, Pólux e Tiles desvendaram os segredos do módulo `itertools` e estão prontos para novas aventuras. Que a força dos iteradores esteja com você! ⚔️"
   ]
  },
  {
   "cell_type": "markdown",
   "metadata": {},
   "source": [
    "## 📚 Referências"
   ]
  },
  {
   "cell_type": "markdown",
   "metadata": {},
   "source": [
    "[1] \"Itertools — Functions creating iterators for efficient looping\", Python 3 Documentation. Disponível em: https://docs.python.org/3/library/itertools.html\n",
    "\n",
    "[2] \"Itertools in Python 3, By Example\", Real Python. Disponível em: https://realpython.com/python-itertools/\n",
    "\n",
    "[3] \"Lazy evaluation\", Wikipedia. Disponível em: https://en.wikipedia.org/wiki/Lazy_evaluation\n",
    "\n",
    "[4] \"Itertools in Python\", GeeksforGeeks. Disponível em: https://www.geeksforgeeks.org/python-itertools/"
   ]
  }
 ],
 "metadata": {
  "kernelspec": {
   "display_name": "Python 3",
   "language": "python",
   "name": "python3"
  },
  "language_info": {
   "codemirror_mode": {
    "name": "ipython",
    "version": 3
   },
   "file_extension": ".py",
   "mimetype": "text/x-python",
   "name": "python",
   "nbconvert_exporter": "python",
   "pygments_lexer": "ipython3",
   "version": "3.11.6"
  }
 },
 "nbformat": 4,
 "nbformat_minor": 2
}
