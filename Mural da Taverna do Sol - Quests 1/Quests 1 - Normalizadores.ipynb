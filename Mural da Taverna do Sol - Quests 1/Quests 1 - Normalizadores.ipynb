{
 "cells": [
  {
   "cell_type": "markdown",
   "metadata": {},
   "source": [
    "# **Quests 1 - Normalizando dados**"
   ]
  },
  {
   "cell_type": "markdown",
   "metadata": {},
   "source": [
    "Grupo: Júlia Guedes Almeida dos Santos, Raquel de Godoy Vianna e Thalles José de Souza Cansi"
   ]
  },
  {
   "cell_type": "markdown",
   "metadata": {},
   "source": [
    "``Deus ajuda quem cedo madruga``"
   ]
  },
  {
   "cell_type": "markdown",
   "metadata": {},
   "source": [
    "## **Enunciado**"
   ]
  },
  {
   "cell_type": "markdown",
   "metadata": {},
   "source": [
    "Escolha um conjunto de dados qualquer que contenha pelo menos 3 colunas com dados numéricos. Explore o uso de pelo menos três normalizadores neste conjunto de dados. Relate e discuta sobre o que observou."
   ]
  },
  {
   "cell_type": "markdown",
   "metadata": {},
   "source": [
    "## **Introdução**"
   ]
  },
  {
   "cell_type": "markdown",
   "metadata": {},
   "source": [
    "### Diário 2 da missão!"
   ]
  },
  {
   "cell_type": "markdown",
   "metadata": {},
   "source": [
    "Depois de longas semanas de discussão sobre o fracasso da última missão, chegamos a uma conclusão: Estava muito difícil visualizar os dados da última missão! Como identificar qual é a relação entre o valor máximo e os demais dados? Além disso, como podemos evitar que um atributo tenha mais peso do que outro ao realizar um modelo de aprendizado de máquina?\n",
    "\n",
    "Após uma ampla pesquisa na Biblioteca Real encontramos algo que poderia auxiliar nessa missão: Os normalizadores! Existem três tipos principais:\n",
    "* Normalizador por mínimo e máximo\n",
    "* Normalizador por máximo e absoluto\n",
    "* Normalizador padrão\n",
    "\n",
    "Essa missão terá como objetivo explorar o funcionamento de cada tipo de normalizador, a fim de identificar qual é o melhor para cada tipo de situação. O dataset utilizado será o \"penguins\" da biblioteca Seaborn (apenas porque Tsuru gosta muito de pinguins)."
   ]
  },
  {
   "cell_type": "markdown",
   "metadata": {},
   "source": [
    "## **Código**"
   ]
  },
  {
   "cell_type": "markdown",
   "metadata": {},
   "source": [
    "### Importação de bibliotecas"
   ]
  },
  {
   "cell_type": "code",
   "execution_count": 85,
   "metadata": {},
   "outputs": [],
   "source": [
    "import seaborn as sns\n",
    "import pandas as pd\n",
    "import numpy as np\n",
    "from matplotlib import pyplot as plt"
   ]
  },
  {
   "cell_type": "markdown",
   "metadata": {},
   "source": [
    "### Definição do dataset"
   ]
  },
  {
   "cell_type": "code",
   "execution_count": 86,
   "metadata": {},
   "outputs": [],
   "source": [
    "df_pinguins = sns.load_dataset(\"penguins\")"
   ]
  },
  {
   "cell_type": "code",
   "execution_count": 87,
   "metadata": {},
   "outputs": [
    {
     "data": {
      "text/html": [
       "<div>\n",
       "<style scoped>\n",
       "    .dataframe tbody tr th:only-of-type {\n",
       "        vertical-align: middle;\n",
       "    }\n",
       "\n",
       "    .dataframe tbody tr th {\n",
       "        vertical-align: top;\n",
       "    }\n",
       "\n",
       "    .dataframe thead th {\n",
       "        text-align: right;\n",
       "    }\n",
       "</style>\n",
       "<table border=\"1\" class=\"dataframe\">\n",
       "  <thead>\n",
       "    <tr style=\"text-align: right;\">\n",
       "      <th></th>\n",
       "      <th>species</th>\n",
       "      <th>island</th>\n",
       "      <th>bill_length_mm</th>\n",
       "      <th>bill_depth_mm</th>\n",
       "      <th>flipper_length_mm</th>\n",
       "      <th>body_mass_g</th>\n",
       "      <th>sex</th>\n",
       "    </tr>\n",
       "  </thead>\n",
       "  <tbody>\n",
       "    <tr>\n",
       "      <th>0</th>\n",
       "      <td>Adelie</td>\n",
       "      <td>Torgersen</td>\n",
       "      <td>39.1</td>\n",
       "      <td>18.7</td>\n",
       "      <td>181.0</td>\n",
       "      <td>3750.0</td>\n",
       "      <td>Male</td>\n",
       "    </tr>\n",
       "    <tr>\n",
       "      <th>1</th>\n",
       "      <td>Adelie</td>\n",
       "      <td>Torgersen</td>\n",
       "      <td>39.5</td>\n",
       "      <td>17.4</td>\n",
       "      <td>186.0</td>\n",
       "      <td>3800.0</td>\n",
       "      <td>Female</td>\n",
       "    </tr>\n",
       "    <tr>\n",
       "      <th>2</th>\n",
       "      <td>Adelie</td>\n",
       "      <td>Torgersen</td>\n",
       "      <td>40.3</td>\n",
       "      <td>18.0</td>\n",
       "      <td>195.0</td>\n",
       "      <td>3250.0</td>\n",
       "      <td>Female</td>\n",
       "    </tr>\n",
       "    <tr>\n",
       "      <th>4</th>\n",
       "      <td>Adelie</td>\n",
       "      <td>Torgersen</td>\n",
       "      <td>36.7</td>\n",
       "      <td>19.3</td>\n",
       "      <td>193.0</td>\n",
       "      <td>3450.0</td>\n",
       "      <td>Female</td>\n",
       "    </tr>\n",
       "    <tr>\n",
       "      <th>5</th>\n",
       "      <td>Adelie</td>\n",
       "      <td>Torgersen</td>\n",
       "      <td>39.3</td>\n",
       "      <td>20.6</td>\n",
       "      <td>190.0</td>\n",
       "      <td>3650.0</td>\n",
       "      <td>Male</td>\n",
       "    </tr>\n",
       "    <tr>\n",
       "      <th>...</th>\n",
       "      <td>...</td>\n",
       "      <td>...</td>\n",
       "      <td>...</td>\n",
       "      <td>...</td>\n",
       "      <td>...</td>\n",
       "      <td>...</td>\n",
       "      <td>...</td>\n",
       "    </tr>\n",
       "    <tr>\n",
       "      <th>338</th>\n",
       "      <td>Gentoo</td>\n",
       "      <td>Biscoe</td>\n",
       "      <td>47.2</td>\n",
       "      <td>13.7</td>\n",
       "      <td>214.0</td>\n",
       "      <td>4925.0</td>\n",
       "      <td>Female</td>\n",
       "    </tr>\n",
       "    <tr>\n",
       "      <th>340</th>\n",
       "      <td>Gentoo</td>\n",
       "      <td>Biscoe</td>\n",
       "      <td>46.8</td>\n",
       "      <td>14.3</td>\n",
       "      <td>215.0</td>\n",
       "      <td>4850.0</td>\n",
       "      <td>Female</td>\n",
       "    </tr>\n",
       "    <tr>\n",
       "      <th>341</th>\n",
       "      <td>Gentoo</td>\n",
       "      <td>Biscoe</td>\n",
       "      <td>50.4</td>\n",
       "      <td>15.7</td>\n",
       "      <td>222.0</td>\n",
       "      <td>5750.0</td>\n",
       "      <td>Male</td>\n",
       "    </tr>\n",
       "    <tr>\n",
       "      <th>342</th>\n",
       "      <td>Gentoo</td>\n",
       "      <td>Biscoe</td>\n",
       "      <td>45.2</td>\n",
       "      <td>14.8</td>\n",
       "      <td>212.0</td>\n",
       "      <td>5200.0</td>\n",
       "      <td>Female</td>\n",
       "    </tr>\n",
       "    <tr>\n",
       "      <th>343</th>\n",
       "      <td>Gentoo</td>\n",
       "      <td>Biscoe</td>\n",
       "      <td>49.9</td>\n",
       "      <td>16.1</td>\n",
       "      <td>213.0</td>\n",
       "      <td>5400.0</td>\n",
       "      <td>Male</td>\n",
       "    </tr>\n",
       "  </tbody>\n",
       "</table>\n",
       "<p>333 rows × 7 columns</p>\n",
       "</div>"
      ],
      "text/plain": [
       "    species     island  bill_length_mm  bill_depth_mm  flipper_length_mm  \\\n",
       "0    Adelie  Torgersen            39.1           18.7              181.0   \n",
       "1    Adelie  Torgersen            39.5           17.4              186.0   \n",
       "2    Adelie  Torgersen            40.3           18.0              195.0   \n",
       "4    Adelie  Torgersen            36.7           19.3              193.0   \n",
       "5    Adelie  Torgersen            39.3           20.6              190.0   \n",
       "..      ...        ...             ...            ...                ...   \n",
       "338  Gentoo     Biscoe            47.2           13.7              214.0   \n",
       "340  Gentoo     Biscoe            46.8           14.3              215.0   \n",
       "341  Gentoo     Biscoe            50.4           15.7              222.0   \n",
       "342  Gentoo     Biscoe            45.2           14.8              212.0   \n",
       "343  Gentoo     Biscoe            49.9           16.1              213.0   \n",
       "\n",
       "     body_mass_g     sex  \n",
       "0         3750.0    Male  \n",
       "1         3800.0  Female  \n",
       "2         3250.0  Female  \n",
       "4         3450.0  Female  \n",
       "5         3650.0    Male  \n",
       "..           ...     ...  \n",
       "338       4925.0  Female  \n",
       "340       4850.0  Female  \n",
       "341       5750.0    Male  \n",
       "342       5200.0  Female  \n",
       "343       5400.0    Male  \n",
       "\n",
       "[333 rows x 7 columns]"
      ]
     },
     "metadata": {},
     "output_type": "display_data"
    }
   ],
   "source": [
    "df_pinguins = df_pinguins.dropna()\n",
    "display(df_pinguins)"
   ]
  },
  {
   "cell_type": "markdown",
   "metadata": {},
   "source": [
    "### Aplicação dos normalizadores"
   ]
  },
  {
   "cell_type": "code",
   "execution_count": 88,
   "metadata": {},
   "outputs": [],
   "source": [
    "from sklearn.preprocessing import MinMaxScaler\n",
    "\n",
    "def normalizador_minmax(df, coluna):\n",
    "    \"\"\"Todos os valores ficam em um intervalo entre 0 (valor mínimo) e 1 (valor máximo)\"\"\"\n",
    "    dados = df[coluna].values.reshape(-1, 1)\n",
    "\n",
    "    normalizador = MinMaxScaler()\n",
    "\n",
    "    normalizador.fit(dados)\n",
    "\n",
    "    dados_normalizados = normalizador.transform(dados)\n",
    "    \n",
    "    df_normalizado = pd.DataFrame(dados_normalizados, columns=[coluna])\n",
    "    \n",
    "    return df_normalizado\n",
    "    "
   ]
  },
  {
   "cell_type": "code",
   "execution_count": 89,
   "metadata": {},
   "outputs": [],
   "source": [
    "from sklearn.preprocessing import MaxAbsScaler\n",
    "\n",
    "def normalizador_maxabs(df, coluna):\n",
    "    \"\"\"Mantém a esparsidade dos dados e os mantém em um intervalo entre [-1, 1]\"\"\"\n",
    "\n",
    "    dados = df[coluna].values.reshape(-1, 1)\n",
    "\n",
    "    normalizador = MaxAbsScaler()\n",
    "\n",
    "    normalizador.fit(dados)\n",
    "\n",
    "    dados_normalizados = normalizador.transform(dados)\n",
    "    \n",
    "    df_normalizado = pd.DataFrame(dados_normalizados, columns=[coluna])\n",
    "    \n",
    "    return df_normalizado\n"
   ]
  },
  {
   "cell_type": "code",
   "execution_count": 90,
   "metadata": {},
   "outputs": [],
   "source": [
    "from sklearn.preprocessing import StandardScaler\n",
    "\n",
    "def normalizador_padrao(df, coluna):\n",
    "    \"\"\"Torna a média 0 e o desvio padrão 1\"\"\"\n",
    "    dados = df[coluna].values.reshape(-1, 1)\n",
    "\n",
    "    normalizador = StandardScaler()\n",
    "\n",
    "    normalizador.fit(dados)\n",
    "\n",
    "    dados_normalizados = normalizador.transform(dados)\n",
    "    \n",
    "    df_normalizado = pd.DataFrame(dados_normalizados, columns=[coluna])\n",
    "    \n",
    "    return df_normalizado\n"
   ]
  },
  {
   "cell_type": "code",
   "execution_count": 91,
   "metadata": {},
   "outputs": [],
   "source": [
    "def desvio_padrao(coluna):\n",
    "    desvio_padrao = np.std(coluna)\n",
    "    print(f\"O desvio padrão é {desvio_padrao:.2f}\")\n",
    "    \n",
    "def media(coluna):\n",
    "    media = np.mean(coluna)\n",
    "    print(f\"A média é {media:.2f}\")\n",
    "    \n",
    "def valores_minimos(coluna):\n",
    "    valor_minimo = min(coluna)\n",
    "    print(f\"O valor mínimo é {valor_minimo:.2f}\")\n",
    " \n",
    "def valores_maximos(coluna):\n",
    "    valor_maximo = max(coluna)\n",
    "    print(f\"O valor máximo é {valor_maximo:.2f}\")\n",
    "    \n",
    "def analise_normalizadores(coluna):\n",
    "    desvio_padrao(coluna)\n",
    "    media(coluna)\n",
    "    valores_minimos(coluna)\n",
    "    valores_maximos(coluna)"
   ]
  },
  {
   "cell_type": "code",
   "execution_count": 92,
   "metadata": {},
   "outputs": [],
   "source": [
    "def boxplot(df, nome_da_coluna, valores):\n",
    "    eixo = sns.boxplot(y=df)\n",
    "    eixo.set_title(f\"{nome_da_coluna}\", fontweight = \"bold\", fontsize = 12)\n",
    "    eixo.set_xlabel(\"Frequência\")\n",
    "    eixo.set_ylabel(valores)\n",
    "    plt.show()"
   ]
  },
  {
   "cell_type": "markdown",
   "metadata": {},
   "source": [
    "### Análise dos normalizadores"
   ]
  },
  {
   "cell_type": "markdown",
   "metadata": {},
   "source": [
    "#### *Normalizador por mínimo e máximo*"
   ]
  },
  {
   "cell_type": "code",
   "execution_count": 93,
   "metadata": {},
   "outputs": [
    {
     "name": "stdout",
     "output_type": "stream",
     "text": [
      "O desvio padrão é 13.99\n",
      "A média é 200.97\n",
      "O valor mínimo é 172.00\n",
      "O valor máximo é 231.00\n"
     ]
    }
   ],
   "source": [
    "analise_normalizadores(df_pinguins[\"flipper_length_mm\"])"
   ]
  },
  {
   "cell_type": "code",
   "execution_count": 94,
   "metadata": {},
   "outputs": [
    {
     "data": {
      "image/png": "[encoded data removed]",
      "text/plain": [
       "<Figure size 640x480 with 1 Axes>"
      ]
     },
     "metadata": {},
     "output_type": "display_data"
    }
   ],
   "source": [
    "boxplot(df_pinguins[\"flipper_length_mm\"], \"Comprimento da nadadeira em mm\", \"Comprimento de nadadeira\")"
   ]
  },
  {
   "cell_type": "code",
   "execution_count": 95,
   "metadata": {},
   "outputs": [
    {
     "data": {
      "text/html": [
       "<div>\n",
       "<style scoped>\n",
       "    .dataframe tbody tr th:only-of-type {\n",
       "        vertical-align: middle;\n",
       "    }\n",
       "\n",
       "    .dataframe tbody tr th {\n",
       "        vertical-align: top;\n",
       "    }\n",
       "\n",
       "    .dataframe thead th {\n",
       "        text-align: right;\n",
       "    }\n",
       "</style>\n",
       "<table border=\"1\" class=\"dataframe\">\n",
       "  <thead>\n",
       "    <tr style=\"text-align: right;\">\n",
       "      <th></th>\n",
       "      <th>flipper_length_mm</th>\n",
       "    </tr>\n",
       "  </thead>\n",
       "  <tbody>\n",
       "    <tr>\n",
       "      <th>0</th>\n",
       "      <td>0.152542</td>\n",
       "    </tr>\n",
       "    <tr>\n",
       "      <th>1</th>\n",
       "      <td>0.237288</td>\n",
       "    </tr>\n",
       "    <tr>\n",
       "      <th>2</th>\n",
       "      <td>0.389831</td>\n",
       "    </tr>\n",
       "    <tr>\n",
       "      <th>3</th>\n",
       "      <td>0.355932</td>\n",
       "    </tr>\n",
       "    <tr>\n",
       "      <th>4</th>\n",
       "      <td>0.305085</td>\n",
       "    </tr>\n",
       "    <tr>\n",
       "      <th>...</th>\n",
       "      <td>...</td>\n",
       "    </tr>\n",
       "    <tr>\n",
       "      <th>328</th>\n",
       "      <td>0.711864</td>\n",
       "    </tr>\n",
       "    <tr>\n",
       "      <th>329</th>\n",
       "      <td>0.728814</td>\n",
       "    </tr>\n",
       "    <tr>\n",
       "      <th>330</th>\n",
       "      <td>0.847458</td>\n",
       "    </tr>\n",
       "    <tr>\n",
       "      <th>331</th>\n",
       "      <td>0.677966</td>\n",
       "    </tr>\n",
       "    <tr>\n",
       "      <th>332</th>\n",
       "      <td>0.694915</td>\n",
       "    </tr>\n",
       "  </tbody>\n",
       "</table>\n",
       "<p>333 rows × 1 columns</p>\n",
       "</div>"
      ],
      "text/plain": [
       "     flipper_length_mm\n",
       "0             0.152542\n",
       "1             0.237288\n",
       "2             0.389831\n",
       "3             0.355932\n",
       "4             0.305085\n",
       "..                 ...\n",
       "328           0.711864\n",
       "329           0.728814\n",
       "330           0.847458\n",
       "331           0.677966\n",
       "332           0.694915\n",
       "\n",
       "[333 rows x 1 columns]"
      ]
     },
     "metadata": {},
     "output_type": "display_data"
    }
   ],
   "source": [
    "dados_minmax = normalizador_minmax(df_pinguins, \"flipper_length_mm\")\n",
    "display(dados_minmax)"
   ]
  },
  {
   "cell_type": "code",
   "execution_count": 96,
   "metadata": {},
   "outputs": [
    {
     "name": "stdout",
     "output_type": "stream",
     "text": [
      "O desvio padrão é 0.24\n",
      "A média é 0.49\n",
      "O valor mínimo é 0.00\n",
      "O valor máximo é 1.00\n"
     ]
    }
   ],
   "source": [
    "analise_normalizadores(dados_minmax[\"flipper_length_mm\"])"
   ]
  },
  {
   "cell_type": "markdown",
   "metadata": {},
   "source": [
    "O normalizador por minímo e máximo é conhecido por manter a escala, mas perder a esparsidade dos dados. Na coluna em questão, tal fato não é muito significativo, visto que o tamanho da nadadeira não pode assumir um valor de 0. Logo, a escolha desse normalizador poderia ser feita, visto que auxilia na visualização dos dados. \n",
    "\n",
    "Ademais, a presença de outliers pode modificar a escala, dessa forma, verificar a presença desse é fundamental antes da aplicação desse normalizador. A plotagem de um boxplot é uma boa forma de perceber a presença de tais dados e, como notado no gráfico acima, a coluna analisado não apresenta valores tão perceptíveis."
   ]
  },
  {
   "cell_type": "markdown",
   "metadata": {},
   "source": [
    "#### *Normalizador por máximo absoluto*"
   ]
  },
  {
   "cell_type": "code",
   "execution_count": 97,
   "metadata": {},
   "outputs": [
    {
     "name": "stdout",
     "output_type": "stream",
     "text": [
      "O desvio padrão é 1.97\n",
      "A média é 17.16\n",
      "O valor mínimo é 13.10\n",
      "O valor máximo é 21.50\n"
     ]
    }
   ],
   "source": [
    "analise_normalizadores(df_pinguins[\"bill_depth_mm\"])"
   ]
  },
  {
   "cell_type": "code",
   "execution_count": 98,
   "metadata": {},
   "outputs": [
    {
     "data": {
      "text/html": [
       "<div>\n",
       "<style scoped>\n",
       "    .dataframe tbody tr th:only-of-type {\n",
       "        vertical-align: middle;\n",
       "    }\n",
       "\n",
       "    .dataframe tbody tr th {\n",
       "        vertical-align: top;\n",
       "    }\n",
       "\n",
       "    .dataframe thead th {\n",
       "        text-align: right;\n",
       "    }\n",
       "</style>\n",
       "<table border=\"1\" class=\"dataframe\">\n",
       "  <thead>\n",
       "    <tr style=\"text-align: right;\">\n",
       "      <th></th>\n",
       "      <th>bill_depth_mm</th>\n",
       "    </tr>\n",
       "  </thead>\n",
       "  <tbody>\n",
       "    <tr>\n",
       "      <th>0</th>\n",
       "      <td>0.869767</td>\n",
       "    </tr>\n",
       "    <tr>\n",
       "      <th>1</th>\n",
       "      <td>0.809302</td>\n",
       "    </tr>\n",
       "    <tr>\n",
       "      <th>2</th>\n",
       "      <td>0.837209</td>\n",
       "    </tr>\n",
       "    <tr>\n",
       "      <th>3</th>\n",
       "      <td>0.897674</td>\n",
       "    </tr>\n",
       "    <tr>\n",
       "      <th>4</th>\n",
       "      <td>0.958140</td>\n",
       "    </tr>\n",
       "    <tr>\n",
       "      <th>...</th>\n",
       "      <td>...</td>\n",
       "    </tr>\n",
       "    <tr>\n",
       "      <th>328</th>\n",
       "      <td>0.637209</td>\n",
       "    </tr>\n",
       "    <tr>\n",
       "      <th>329</th>\n",
       "      <td>0.665116</td>\n",
       "    </tr>\n",
       "    <tr>\n",
       "      <th>330</th>\n",
       "      <td>0.730233</td>\n",
       "    </tr>\n",
       "    <tr>\n",
       "      <th>331</th>\n",
       "      <td>0.688372</td>\n",
       "    </tr>\n",
       "    <tr>\n",
       "      <th>332</th>\n",
       "      <td>0.748837</td>\n",
       "    </tr>\n",
       "  </tbody>\n",
       "</table>\n",
       "<p>333 rows × 1 columns</p>\n",
       "</div>"
      ],
      "text/plain": [
       "     bill_depth_mm\n",
       "0         0.869767\n",
       "1         0.809302\n",
       "2         0.837209\n",
       "3         0.897674\n",
       "4         0.958140\n",
       "..             ...\n",
       "328       0.637209\n",
       "329       0.665116\n",
       "330       0.730233\n",
       "331       0.688372\n",
       "332       0.748837\n",
       "\n",
       "[333 rows x 1 columns]"
      ]
     },
     "metadata": {},
     "output_type": "display_data"
    }
   ],
   "source": [
    "dados_maxabs = normalizador_maxabs(df_pinguins, \"bill_depth_mm\")\n",
    "display(dados_maxabs)"
   ]
  },
  {
   "cell_type": "code",
   "execution_count": 99,
   "metadata": {},
   "outputs": [
    {
     "name": "stdout",
     "output_type": "stream",
     "text": [
      "O desvio padrão é 0.09\n",
      "A média é 0.80\n",
      "O valor mínimo é 0.61\n",
      "O valor máximo é 1.00\n"
     ]
    }
   ],
   "source": [
    "analise_normalizadores(dados_maxabs[\"bill_depth_mm\"])"
   ]
  },
  {
   "cell_type": "markdown",
   "metadata": {},
   "source": [
    "Diferentemente do normalizador anterior, o normalizador por máximo absoluto apresenta como principal característica a garantia da esparsidade dos dados. Assim como na coluna sobre nadadeiras, a profundidade do bico também não apresenta valores iguais a 0. Consequentemente, a utilização desse normalizador não traria uma grande vantagem, além de facilitar a visualização dos dados, que estariam contidos em um intervalo [-1, 1]."
   ]
  },
  {
   "cell_type": "code",
   "execution_count": 100,
   "metadata": {},
   "outputs": [
    {
     "name": "stdout",
     "output_type": "stream",
     "text": [
      "0\n",
      "0\n"
     ]
    }
   ],
   "source": [
    "# Confirmação: Realmente as colunas supracitadas não possuem nenhum valore igual a 0 \n",
    "lista1= list(df_pinguins[\"flipper_length_mm\"])\n",
    "print(lista1.count(0))\n",
    "\n",
    "lista2= list(df_pinguins[\"bill_depth_mm\"])\n",
    "print(lista2.count(0))"
   ]
  },
  {
   "cell_type": "markdown",
   "metadata": {},
   "source": [
    "#### *Normalizador Padrão*"
   ]
  },
  {
   "cell_type": "code",
   "execution_count": 101,
   "metadata": {},
   "outputs": [
    {
     "name": "stdout",
     "output_type": "stream",
     "text": [
      "O desvio padrão é 804.01\n",
      "A média é 4207.06\n",
      "O valor mínimo é 2700.00\n",
      "O valor máximo é 6300.00\n"
     ]
    }
   ],
   "source": [
    "analise_normalizadores(df_pinguins[\"body_mass_g\"])"
   ]
  },
  {
   "cell_type": "code",
   "execution_count": 102,
   "metadata": {},
   "outputs": [
    {
     "data": {
      "text/html": [
       "<div>\n",
       "<style scoped>\n",
       "    .dataframe tbody tr th:only-of-type {\n",
       "        vertical-align: middle;\n",
       "    }\n",
       "\n",
       "    .dataframe tbody tr th {\n",
       "        vertical-align: top;\n",
       "    }\n",
       "\n",
       "    .dataframe thead th {\n",
       "        text-align: right;\n",
       "    }\n",
       "</style>\n",
       "<table border=\"1\" class=\"dataframe\">\n",
       "  <thead>\n",
       "    <tr style=\"text-align: right;\">\n",
       "      <th></th>\n",
       "      <th>body_mass_g</th>\n",
       "    </tr>\n",
       "  </thead>\n",
       "  <tbody>\n",
       "    <tr>\n",
       "      <th>0</th>\n",
       "      <td>-0.568475</td>\n",
       "    </tr>\n",
       "    <tr>\n",
       "      <th>1</th>\n",
       "      <td>-0.506286</td>\n",
       "    </tr>\n",
       "    <tr>\n",
       "      <th>2</th>\n",
       "      <td>-1.190361</td>\n",
       "    </tr>\n",
       "    <tr>\n",
       "      <th>3</th>\n",
       "      <td>-0.941606</td>\n",
       "    </tr>\n",
       "    <tr>\n",
       "      <th>4</th>\n",
       "      <td>-0.692852</td>\n",
       "    </tr>\n",
       "    <tr>\n",
       "      <th>...</th>\n",
       "      <td>...</td>\n",
       "    </tr>\n",
       "    <tr>\n",
       "      <th>328</th>\n",
       "      <td>0.892957</td>\n",
       "    </tr>\n",
       "    <tr>\n",
       "      <th>329</th>\n",
       "      <td>0.799674</td>\n",
       "    </tr>\n",
       "    <tr>\n",
       "      <th>330</th>\n",
       "      <td>1.919069</td>\n",
       "    </tr>\n",
       "    <tr>\n",
       "      <th>331</th>\n",
       "      <td>1.234995</td>\n",
       "    </tr>\n",
       "    <tr>\n",
       "      <th>332</th>\n",
       "      <td>1.483749</td>\n",
       "    </tr>\n",
       "  </tbody>\n",
       "</table>\n",
       "<p>333 rows × 1 columns</p>\n",
       "</div>"
      ],
      "text/plain": [
       "     body_mass_g\n",
       "0      -0.568475\n",
       "1      -0.506286\n",
       "2      -1.190361\n",
       "3      -0.941606\n",
       "4      -0.692852\n",
       "..           ...\n",
       "328     0.892957\n",
       "329     0.799674\n",
       "330     1.919069\n",
       "331     1.234995\n",
       "332     1.483749\n",
       "\n",
       "[333 rows x 1 columns]"
      ]
     },
     "metadata": {},
     "output_type": "display_data"
    }
   ],
   "source": [
    "dados_padrao = normalizador_padrao(df_pinguins, \"body_mass_g\")\n",
    "display(dados_padrao)"
   ]
  },
  {
   "cell_type": "code",
   "execution_count": 103,
   "metadata": {},
   "outputs": [
    {
     "name": "stdout",
     "output_type": "stream",
     "text": [
      "O desvio padrão é 1.00\n",
      "A média é -0.00\n",
      "O valor mínimo é -1.87\n",
      "O valor máximo é 2.60\n"
     ]
    }
   ],
   "source": [
    "analise_normalizadores(dados_padrao[\"body_mass_g\"])"
   ]
  },
  {
   "cell_type": "markdown",
   "metadata": {},
   "source": [
    "Nesse dataset, o uso de um normalizador seria fundamental em razão da diferença de escala entre as colunas. A coluna \"body_mass_g\" apresenta uma escala maior do que as demais, o que poderia dificultar a aplicação de um modelo k-NN vizinhos mais próximos, visto que o atributo dessa coluna teria um \"peso\" maior do que as demais, consequentemente, dominairia o cálculo da distância.  \n",
    "\n",
    "Uma vantagem que o normalizador padrão poderia trazer é tornar a distribuição desses dados normal, auxiliando na visualização de comportamentos semelhantes ao Teoria do Limite Central e facilitando a aplicação de métodos estatísticos[1] Ademais, em relação aos outros normalizadores, por trabalhar com médias, o normalizador padrão é menos sensível a outliers.  \n",
    "\n",
    "Apesar dessas notáveis vantagem, é inegável que a presença de valores negativos em certas grandezas, como a massa, podem causar certa estranheza. No entanto, esses apenas indicam que o valor em questão está abaixo da média do conjunto de dados."
   ]
  },
  {
   "cell_type": "markdown",
   "metadata": {},
   "source": [
    "## **Conclusão**"
   ]
  },
  {
   "cell_type": "markdown",
   "metadata": {},
   "source": [
    "A partir dessa missão foi possível aprender quais são as vantagens e desvantagens de cada tipo de normalizador. Em síntese, podemos dizer que:\n",
    "\n",
    "* Normalizador por mínimo e máximo: Mantém a escala, mas perde a esparsidade. Pode ser sensível a outliers.\n",
    "\n",
    "* Normalizador por máximo absoluto: Mantém a escala e a esparsidade.\n",
    "\n",
    "* Normalizador Padrão: Torna a distribuição de dados normal e menos sensível a outliers.\n",
    "\n",
    "\n",
    "O tipo de normalizador escolhido dependerá diretamente do tipo de dado que buscamos analisar. Ou seja, assim como verificado na quest anterior, é importante conhecer profundamente seus dados antes de escolher seus passos na criação de um modelo de aprendizado de máquina. \n",
    "\n",
    "Com certeza esse conhecimento será útil para as nossas próximas missões!"
   ]
  },
  {
   "cell_type": "markdown",
   "metadata": {},
   "source": [
    "## **Bibliografia**"
   ]
  },
  {
   "cell_type": "markdown",
   "metadata": {},
   "source": [
    "[1]  Fácil, Aprender Estatística. “O que é: Standard Normal Distribution (Distribuição Normal Padrão)”. APRENDER ESTATÍSTICA FÁCIL, 26 de julho de 2024, https://estatisticafacil.org/glossario/o-que-e-standard-normal-distribution-distribuicao-normal-padrao/.\n",
    "\n",
    "[2] Cassar, Daniel Roberto, \"ATP-203 - Tratamento de dados\". 5 de agosto de 2024."
   ]
  }
 ],
 "metadata": {
  "kernelspec": {
   "display_name": "ilumpy",
   "language": "python",
   "name": "ilumpy"
  },
  "language_info": {
   "codemirror_mode": {
    "name": "ipython",
    "version": 3
   },
   "file_extension": ".py",
   "mimetype": "text/x-python",
   "name": "python",
   "nbconvert_exporter": "python",
   "pygments_lexer": "ipython3",
   "version": "3.11.6"
  }
 },
 "nbformat": 4,
 "nbformat_minor": 2
}
